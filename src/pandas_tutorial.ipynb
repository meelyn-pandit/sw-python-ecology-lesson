{
 "cells": [
  {
   "cell_type": "code",
   "execution_count": 3,
   "metadata": {},
   "outputs": [],
   "source": [
    "import pandas as pd # already comes with matplotlib and NumPy\n",
    "import glob\n",
    "import os\n",
    "import matplotlib"
   ]
  },
  {
   "cell_type": "code",
   "execution_count": 2,
   "metadata": {},
   "outputs": [
    {
     "name": "stdout",
     "output_type": "stream",
     "text": [
      "/home/meelyn/Documents/cloud_development/python_data_plotting\n"
     ]
    }
   ],
   "source": [
    "cwd = os.getcwd()\n",
    "print(cwd)"
   ]
  },
  {
   "cell_type": "code",
   "execution_count": 4,
   "metadata": {},
   "outputs": [],
   "source": [
    "# Concatenate all csv files in data directory\n",
    "\n",
    "all_files = glob.glob(os.path.join('./data/', '*csv'))\n",
    "\n",
    "li = []\n",
    "\n",
    "for filename in all_files:\n",
    "    df = pd.read_csv(filename, index_col=None, header=0)\n",
    "    li.append(df)\n",
    "\n",
    "blu_data = pd.concat(li, axis=0, ignore_index=True)\n",
    "\n"
   ]
  },
  {
   "cell_type": "code",
   "execution_count": 7,
   "metadata": {},
   "outputs": [
    {
     "name": "stdout",
     "output_type": "stream",
     "text": [
      "   UsbPort  RadioId                 Time  TagRSSI     TagId   Sync  Product  \\\n",
      "0        3        2  2024-05-13 14:01:16      -84  0c5f5ced  46503        1   \n",
      "1        3        4  2024-05-13 14:01:16      -82  0c5f5ced  46503        1   \n",
      "2        3        1  2024-05-13 14:01:17      -82  0c5f5ced  16253        1   \n",
      "3        3        1  2024-05-13 14:01:18      -85  0c5f5ced  45989        1   \n",
      "4        3        1  2024-05-13 14:01:19      -86  0c5f5ced  31817        1   \n",
      "\n",
      "   Revision    VCC   Temp   Payload  NodeId  \n",
      "0       0.0  2.946  22.59  820bd308     NaN  \n",
      "1       0.0  2.946  22.59  820bd308     NaN  \n",
      "2       0.0  2.946  22.74  820be208     NaN  \n",
      "3       0.0  2.946  22.64  820bd808     NaN  \n",
      "4       0.0  2.946  22.67  820bdb08     NaN  \n",
      "<class 'pandas.core.frame.DataFrame'>\n",
      "UsbPort       int64\n",
      "RadioId       int64\n",
      "Time         object\n",
      "TagRSSI       int64\n",
      "TagId        object\n",
      "Sync          int64\n",
      "Product       int64\n",
      "Revision    float64\n",
      "VCC         float64\n",
      "Temp        float64\n",
      "Payload      object\n",
      "NodeId      float64\n",
      "dtype: object\n",
      "Index(['UsbPort', 'RadioId', 'Time', 'TagRSSI', 'TagId', 'Sync', 'Product',\n",
      "       'Revision', 'VCC', 'Temp', 'Payload', 'NodeId'],\n",
      "      dtype='object')\n",
      "   UsbPort  RadioId                 Time  TagRSSI     TagId   Sync  Product  \\\n",
      "0        3        2  2024-05-13 14:01:16      -84  0c5f5ced  46503        1   \n",
      "1        3        4  2024-05-13 14:01:16      -82  0c5f5ced  46503        1   \n",
      "2        3        1  2024-05-13 14:01:17      -82  0c5f5ced  16253        1   \n",
      "3        3        1  2024-05-13 14:01:18      -85  0c5f5ced  45989        1   \n",
      "4        3        1  2024-05-13 14:01:19      -86  0c5f5ced  31817        1   \n",
      "\n",
      "   Revision    VCC   Temp   Payload  NodeId  \n",
      "0       0.0  2.946  22.59  820bd308     NaN  \n",
      "1       0.0  2.946  22.59  820bd308     NaN  \n",
      "2       0.0  2.946  22.74  820be208     NaN  \n",
      "3       0.0  2.946  22.64  820bd808     NaN  \n",
      "4       0.0  2.946  22.67  820bdb08     NaN  \n",
      "Index(['UsbPort', 'RadioId', 'Time', 'TagRSSI', 'TagId', 'Sync', 'Product',\n",
      "       'Revision', 'VCC', 'Temp', 'Payload', 'NodeId'],\n",
      "      dtype='object')\n",
      "(234622, 12)\n",
      "[2 4 1 3]\n",
      "count    234621.000000\n",
      "mean          2.420615\n",
      "std           0.587573\n",
      "min           1.033000\n",
      "25%           1.855000\n",
      "50%           2.349000\n",
      "75%           3.050000\n",
      "max           3.083000\n",
      "Name: VCC, dtype: float64\n",
      "<bound method Series.mean of 0         2.946\n",
      "1         2.946\n",
      "2         2.946\n",
      "3         2.946\n",
      "4         2.946\n",
      "          ...  \n",
      "234617    1.457\n",
      "234618    3.033\n",
      "234619    2.321\n",
      "234620    1.981\n",
      "234621      NaN\n",
      "Name: VCC, Length: 234622, dtype: float64>\n",
      "<bound method Series.median of 0         2.946\n",
      "1         2.946\n",
      "2         2.946\n",
      "3         2.946\n",
      "4         2.946\n",
      "          ...  \n",
      "234617    1.457\n",
      "234618    3.033\n",
      "234619    2.321\n",
      "234620    1.981\n",
      "234621      NaN\n",
      "Name: VCC, Length: 234622, dtype: float64>\n",
      "<bound method Series.min of 0         2.946\n",
      "1         2.946\n",
      "2         2.946\n",
      "3         2.946\n",
      "4         2.946\n",
      "          ...  \n",
      "234617    1.457\n",
      "234618    3.033\n",
      "234619    2.321\n",
      "234620    1.981\n",
      "234621      NaN\n",
      "Name: VCC, Length: 234622, dtype: float64>\n"
     ]
    }
   ],
   "source": [
    "# Attributes and Methods\n",
    "\n",
    "# print(blu_data) # prints out a bit of the data frame\n",
    "\n",
    "print(blu_data.head()) # only prints first few rows\n",
    "\n",
    "print(type(blu_data)) # type is pandas.core.frame.DataFrame\n",
    "\n",
    "print(blu_data.dtypes) # prints out variable types\n",
    "\n",
    "# Useful ways to view DataFrame Objects in Python\n",
    "## there are many ways to summarize and access the data stored in DataFrames, using attributes and methods provided by the DataFrame object.\n",
    "\n",
    "## attributes - features of an object (columns, rows, variable type)\n",
    "### shape will output the size (number of rows and columns) of an object\n",
    "### access an attribute name by 'df_object.attribute' ex. blu_data.columns, returns an array/list\n",
    "print(blu_data.columns)\n",
    "\n",
    "### methods are like functions, but only work on particular kinds of objects\n",
    "### head() is a function that returns the first few rows of dataframe\n",
    "print(blu_data.head())\n",
    "\n",
    "# Challenge DataFrames\n",
    "print(blu_data.columns)\n",
    "print(blu_data.shape) # returns variable names, number of rows and number of columns\n",
    "# shape is a tuple - consists of a number of values separated by commas\n",
    "\n",
    "# print(blu_data.head(15)) # prints first 15 rows, remember that python starts at 0\n",
    "\n",
    "# print(blu_data.tail())\n",
    "\n",
    "print(pd.unique(blu_data['RadioId'])) # gets unique number of radios\n",
    "\n",
    "print(blu_data['VCC'].describe()) # provides basic summary statistics\n",
    "\n",
    "#can extract specific metrics from describe method\n",
    "print(blu_data['VCC'].mean)\n",
    "print(blu_data['VCC'].median)\n",
    "print(blu_data['VCC'].min)\n",
    "\n"
   ]
  },
  {
   "cell_type": "code",
   "execution_count": 11,
   "metadata": {},
   "outputs": [
    {
     "name": "stdout",
     "output_type": "stream",
     "text": [
      "                 TagRSSI                                                      \\\n",
      "                   count       mean        std   min   25%   50%   75%   max   \n",
      "UsbPort RadioId                                                                \n",
      "1       1        16967.0 -64.373490   8.964513 -87.0 -71.0 -64.0 -58.0 -34.0   \n",
      "        2        19679.0 -62.954418  11.989184 -93.0 -72.0 -62.0 -54.0 -32.0   \n",
      "        3        18463.0 -63.727401  11.081529 -88.0 -73.0 -62.0 -56.0 -36.0   \n",
      "        4        19752.0 -71.832574   7.183764 -89.0 -78.0 -73.0 -67.0 -44.0   \n",
      "3       1        14569.0 -73.966161   7.169222 -89.0 -80.0 -74.0 -69.0 -30.0   \n",
      "        2        21288.0 -63.647689  12.640357 -90.0 -75.0 -61.0 -53.0 -28.0   \n",
      "        3        20823.0 -72.142775   7.922727 -90.0 -79.0 -72.0 -66.0 -38.0   \n",
      "        4        18907.0 -68.744380   9.465951 -90.0 -78.0 -67.0 -62.0 -38.0   \n",
      "4       1        19983.0 -68.653906   8.438419 -91.0 -75.0 -68.0 -63.0 -34.0   \n",
      "        2        21479.0 -63.016016  11.327800 -93.0 -71.0 -61.0 -55.0 -36.0   \n",
      "        3        20757.0 -67.424821   9.980155 -91.0 -75.0 -66.0 -61.0 -42.0   \n",
      "        4        21905.0 -60.494179  13.233324 -89.0 -71.0 -57.0 -50.0 -23.0   \n",
      "5       2            1.0 -85.000000        NaN -85.0 -85.0 -85.0 -85.0 -85.0   \n",
      "        3            1.0 -85.000000        NaN -85.0 -85.0 -85.0 -85.0 -85.0   \n",
      "        4           48.0 -82.958333   1.737672 -88.0 -84.0 -83.0 -82.0 -79.0   \n",
      "\n",
      "                    Sync                ...     Temp        NodeId           \\\n",
      "                   count          mean  ...      75%    max  count mean std   \n",
      "UsbPort RadioId                         ...                                   \n",
      "1       1        16967.0  32864.938528  ...  30.0500  60.90    0.0  NaN NaN   \n",
      "        2        19679.0  32905.979623  ...  30.8400  60.90    0.0  NaN NaN   \n",
      "        3        18463.0  32794.624330  ...  32.0200  60.90    0.0  NaN NaN   \n",
      "        4        19752.0  32873.903098  ...  32.0900  60.90    0.0  NaN NaN   \n",
      "3       1        14569.0  32970.953188  ...  29.2600  60.52    0.0  NaN NaN   \n",
      "        2        21288.0  33039.189731  ...  30.5800  60.90    0.0  NaN NaN   \n",
      "        3        20823.0  32993.580656  ...  29.8400  60.80    0.0  NaN NaN   \n",
      "        4        18907.0  32886.979161  ...  29.3100  60.90    0.0  NaN NaN   \n",
      "4       1        19983.0  32754.084572  ...  30.5300  60.90    0.0  NaN NaN   \n",
      "        2        21479.0  32880.581265  ...  31.1300  60.90    0.0  NaN NaN   \n",
      "        3        20757.0  32964.448138  ...  30.7800  60.90    0.0  NaN NaN   \n",
      "        4        21905.0  32965.543803  ...  32.6000  60.90    0.0  NaN NaN   \n",
      "5       2            1.0  14868.000000  ...  25.2200  25.22    0.0  NaN NaN   \n",
      "        3            1.0   3137.000000  ...  25.0700  25.07    0.0  NaN NaN   \n",
      "        4           48.0  27084.041667  ...  26.7725  27.29    0.0  NaN NaN   \n",
      "\n",
      "                                     \n",
      "                min 25% 50% 75% max  \n",
      "UsbPort RadioId                      \n",
      "1       1       NaN NaN NaN NaN NaN  \n",
      "        2       NaN NaN NaN NaN NaN  \n",
      "        3       NaN NaN NaN NaN NaN  \n",
      "        4       NaN NaN NaN NaN NaN  \n",
      "3       1       NaN NaN NaN NaN NaN  \n",
      "        2       NaN NaN NaN NaN NaN  \n",
      "        3       NaN NaN NaN NaN NaN  \n",
      "        4       NaN NaN NaN NaN NaN  \n",
      "4       1       NaN NaN NaN NaN NaN  \n",
      "        2       NaN NaN NaN NaN NaN  \n",
      "        3       NaN NaN NaN NaN NaN  \n",
      "        4       NaN NaN NaN NaN NaN  \n",
      "5       2       NaN NaN NaN NaN NaN  \n",
      "        3       NaN NaN NaN NaN NaN  \n",
      "        4       NaN NaN NaN NaN NaN  \n",
      "\n",
      "[15 rows x 56 columns]\n"
     ]
    }
   ],
   "source": [
    "# summarize by one or more variables, use panadas .groupby method\n",
    "grouped_data = blu_data.groupby(['UsbPort', 'RadioId'])\n",
    "print(grouped_data.describe()) # need to use describe method to display summary stats from the groupby dataframe"
   ]
  },
  {
   "cell_type": "code",
   "execution_count": 13,
   "metadata": {},
   "outputs": [
    {
     "name": "stdout",
     "output_type": "stream",
     "text": [
      "Time                 UsbPort  RadioId\n",
      "2024-05-13 14:01:16  3        2          1\n",
      "                              4          1\n",
      "2024-05-13 14:01:17  3        1          1\n",
      "                              3          2\n",
      "                              4          1\n",
      "                                        ..\n",
      "2024-05-13 17:07:28  4        1          3\n",
      "                              2          5\n",
      "                              3          5\n",
      "2024-05-13 17:07:29  4        2          3\n",
      "                              3          5\n",
      "Name: TagId, Length: 65197, dtype: int64\n",
      "count    65197.000000\n",
      "mean         3.598663\n",
      "std          1.834979\n",
      "min          1.000000\n",
      "25%          2.000000\n",
      "50%          4.000000\n",
      "75%          5.000000\n",
      "max         11.000000\n",
      "Name: TagId, dtype: float64\n"
     ]
    }
   ],
   "source": [
    "# creating summary counts in pandas\n",
    "blu_count = blu_data.groupby(['Time','UsbPort', 'RadioId'])['TagId'].count() # counts the number of unique tags for each usbport\n",
    "print(blu_count)\n",
    "print(blu_count.describe())"
   ]
  },
  {
   "cell_type": "code",
   "execution_count": 24,
   "metadata": {},
   "outputs": [
    {
     "ename": "KeyError",
     "evalue": "'0c5f5ced'",
     "output_type": "error",
     "traceback": [
      "\u001b[0;31m---------------------------------------------------------------------------\u001b[0m",
      "\u001b[0;31mKeyError\u001b[0m                                  Traceback (most recent call last)",
      "File \u001b[0;32m/home/linuxbrew/.linuxbrew/Cellar/python@3.10/3.10.6_2/lib/python3.10/site-packages/pandas/core/indexes/base.py:3805\u001b[0m, in \u001b[0;36mIndex.get_loc\u001b[0;34m(self, key)\u001b[0m\n\u001b[1;32m   3804\u001b[0m \u001b[38;5;28;01mtry\u001b[39;00m:\n\u001b[0;32m-> 3805\u001b[0m     \u001b[38;5;28;01mreturn\u001b[39;00m \u001b[38;5;28;43mself\u001b[39;49m\u001b[38;5;241;43m.\u001b[39;49m\u001b[43m_engine\u001b[49m\u001b[38;5;241;43m.\u001b[39;49m\u001b[43mget_loc\u001b[49m\u001b[43m(\u001b[49m\u001b[43mcasted_key\u001b[49m\u001b[43m)\u001b[49m\n\u001b[1;32m   3806\u001b[0m \u001b[38;5;28;01mexcept\u001b[39;00m \u001b[38;5;167;01mKeyError\u001b[39;00m \u001b[38;5;28;01mas\u001b[39;00m err:\n",
      "File \u001b[0;32mindex.pyx:167\u001b[0m, in \u001b[0;36mpandas._libs.index.IndexEngine.get_loc\u001b[0;34m()\u001b[0m\n",
      "File \u001b[0;32mindex.pyx:175\u001b[0m, in \u001b[0;36mpandas._libs.index.IndexEngine.get_loc\u001b[0;34m()\u001b[0m\n",
      "File \u001b[0;32mpandas/_libs/index_class_helper.pxi:70\u001b[0m, in \u001b[0;36mpandas._libs.index.Int64Engine._check_type\u001b[0;34m()\u001b[0m\n",
      "\u001b[0;31mKeyError\u001b[0m: '0c5f5ced'",
      "\nThe above exception was the direct cause of the following exception:\n",
      "\u001b[0;31mKeyError\u001b[0m                                  Traceback (most recent call last)",
      "Cell \u001b[0;32mIn[24], line 2\u001b[0m\n\u001b[1;32m      1\u001b[0m \u001b[38;5;66;03m# count the number of rows for a specific TagId\u001b[39;00m\n\u001b[0;32m----> 2\u001b[0m bad_tag \u001b[38;5;241m=\u001b[39m \u001b[43mblu_data\u001b[49m\u001b[38;5;241;43m.\u001b[39;49m\u001b[43mgroupby\u001b[49m\u001b[43m(\u001b[49m\u001b[38;5;124;43m'\u001b[39;49m\u001b[38;5;124;43mUsbPort\u001b[39;49m\u001b[38;5;124;43m'\u001b[39;49m\u001b[43m)\u001b[49m\u001b[43m[\u001b[49m\u001b[38;5;124;43m'\u001b[39;49m\u001b[38;5;124;43mTagId\u001b[39;49m\u001b[38;5;124;43m'\u001b[39;49m\u001b[43m]\u001b[49m\u001b[38;5;241;43m.\u001b[39;49m\u001b[43mcount\u001b[49m\u001b[43m(\u001b[49m\u001b[43m)\u001b[49m\u001b[43m[\u001b[49m\u001b[38;5;124;43m'\u001b[39;49m\u001b[38;5;124;43m0c5f5ced\u001b[39;49m\u001b[38;5;124;43m'\u001b[39;49m\u001b[43m]\u001b[49m\n",
      "File \u001b[0;32m/home/linuxbrew/.linuxbrew/Cellar/python@3.10/3.10.6_2/lib/python3.10/site-packages/pandas/core/series.py:1121\u001b[0m, in \u001b[0;36mSeries.__getitem__\u001b[0;34m(self, key)\u001b[0m\n\u001b[1;32m   1118\u001b[0m     \u001b[38;5;28;01mreturn\u001b[39;00m \u001b[38;5;28mself\u001b[39m\u001b[38;5;241m.\u001b[39m_values[key]\n\u001b[1;32m   1120\u001b[0m \u001b[38;5;28;01melif\u001b[39;00m key_is_scalar:\n\u001b[0;32m-> 1121\u001b[0m     \u001b[38;5;28;01mreturn\u001b[39;00m \u001b[38;5;28;43mself\u001b[39;49m\u001b[38;5;241;43m.\u001b[39;49m\u001b[43m_get_value\u001b[49m\u001b[43m(\u001b[49m\u001b[43mkey\u001b[49m\u001b[43m)\u001b[49m\n\u001b[1;32m   1123\u001b[0m \u001b[38;5;66;03m# Convert generator to list before going through hashable part\u001b[39;00m\n\u001b[1;32m   1124\u001b[0m \u001b[38;5;66;03m# (We will iterate through the generator there to check for slices)\u001b[39;00m\n\u001b[1;32m   1125\u001b[0m \u001b[38;5;28;01mif\u001b[39;00m is_iterator(key):\n",
      "File \u001b[0;32m/home/linuxbrew/.linuxbrew/Cellar/python@3.10/3.10.6_2/lib/python3.10/site-packages/pandas/core/series.py:1237\u001b[0m, in \u001b[0;36mSeries._get_value\u001b[0;34m(self, label, takeable)\u001b[0m\n\u001b[1;32m   1234\u001b[0m     \u001b[38;5;28;01mreturn\u001b[39;00m \u001b[38;5;28mself\u001b[39m\u001b[38;5;241m.\u001b[39m_values[label]\n\u001b[1;32m   1236\u001b[0m \u001b[38;5;66;03m# Similar to Index.get_value, but we do not fall back to positional\u001b[39;00m\n\u001b[0;32m-> 1237\u001b[0m loc \u001b[38;5;241m=\u001b[39m \u001b[38;5;28;43mself\u001b[39;49m\u001b[38;5;241;43m.\u001b[39;49m\u001b[43mindex\u001b[49m\u001b[38;5;241;43m.\u001b[39;49m\u001b[43mget_loc\u001b[49m\u001b[43m(\u001b[49m\u001b[43mlabel\u001b[49m\u001b[43m)\u001b[49m\n\u001b[1;32m   1239\u001b[0m \u001b[38;5;28;01mif\u001b[39;00m is_integer(loc):\n\u001b[1;32m   1240\u001b[0m     \u001b[38;5;28;01mreturn\u001b[39;00m \u001b[38;5;28mself\u001b[39m\u001b[38;5;241m.\u001b[39m_values[loc]\n",
      "File \u001b[0;32m/home/linuxbrew/.linuxbrew/Cellar/python@3.10/3.10.6_2/lib/python3.10/site-packages/pandas/core/indexes/base.py:3812\u001b[0m, in \u001b[0;36mIndex.get_loc\u001b[0;34m(self, key)\u001b[0m\n\u001b[1;32m   3807\u001b[0m     \u001b[38;5;28;01mif\u001b[39;00m \u001b[38;5;28misinstance\u001b[39m(casted_key, \u001b[38;5;28mslice\u001b[39m) \u001b[38;5;129;01mor\u001b[39;00m (\n\u001b[1;32m   3808\u001b[0m         \u001b[38;5;28misinstance\u001b[39m(casted_key, abc\u001b[38;5;241m.\u001b[39mIterable)\n\u001b[1;32m   3809\u001b[0m         \u001b[38;5;129;01mand\u001b[39;00m \u001b[38;5;28many\u001b[39m(\u001b[38;5;28misinstance\u001b[39m(x, \u001b[38;5;28mslice\u001b[39m) \u001b[38;5;28;01mfor\u001b[39;00m x \u001b[38;5;129;01min\u001b[39;00m casted_key)\n\u001b[1;32m   3810\u001b[0m     ):\n\u001b[1;32m   3811\u001b[0m         \u001b[38;5;28;01mraise\u001b[39;00m InvalidIndexError(key)\n\u001b[0;32m-> 3812\u001b[0m     \u001b[38;5;28;01mraise\u001b[39;00m \u001b[38;5;167;01mKeyError\u001b[39;00m(key) \u001b[38;5;28;01mfrom\u001b[39;00m \u001b[38;5;21;01merr\u001b[39;00m\n\u001b[1;32m   3813\u001b[0m \u001b[38;5;28;01mexcept\u001b[39;00m \u001b[38;5;167;01mTypeError\u001b[39;00m:\n\u001b[1;32m   3814\u001b[0m     \u001b[38;5;66;03m# If we have a listlike key, _check_indexing_error will raise\u001b[39;00m\n\u001b[1;32m   3815\u001b[0m     \u001b[38;5;66;03m#  InvalidIndexError. Otherwise we fall through and re-raise\u001b[39;00m\n\u001b[1;32m   3816\u001b[0m     \u001b[38;5;66;03m#  the TypeError.\u001b[39;00m\n\u001b[1;32m   3817\u001b[0m     \u001b[38;5;28mself\u001b[39m\u001b[38;5;241m.\u001b[39m_check_indexing_error(key)\n",
      "\u001b[0;31mKeyError\u001b[0m: '0c5f5ced'"
     ]
    }
   ],
   "source": [
    "# count the number of rows for a specific TagId\n",
    "bad_tag = blu_data.groupby('UsbPort')['TagId'].count()['0c5f5ced']"
   ]
  },
  {
   "cell_type": "code",
   "execution_count": 7,
   "metadata": {},
   "outputs": [
    {
     "data": {
      "text/plain": [
       "<Axes: xlabel='UsbPort,RadioId'>"
      ]
     },
     "execution_count": 7,
     "metadata": {},
     "output_type": "execute_result"
    },
    {
     "data": {
      "image/png": "[encoded data removed]",
      "text/plain": [
       "<Figure size 640x480 with 1 Axes>"
      ]
     },
     "metadata": {},
     "output_type": "display_data"
    }
   ],
   "source": [
    "# Quick and Easy Plotting Data Using Pandas\n",
    "## Make sure figures appear inline in Ipython Notebook\n",
    "%matplotlib inline\n",
    "\n",
    "# Create a quick bar chart\n",
    "blu_count.plot(kind='bar')"
   ]
  },
  {
   "cell_type": "code",
   "execution_count": 38,
   "metadata": {},
   "outputs": [
    {
     "name": "stdout",
     "output_type": "stream",
     "text": [
      "<class 'pandas.core.series.Series'>\n"
     ]
    },
    {
     "ename": "ValueError",
     "evalue": "plot kind scatter can only be used for data frames",
     "output_type": "error",
     "traceback": [
      "\u001b[0;31m---------------------------------------------------------------------------\u001b[0m",
      "\u001b[0;31mValueError\u001b[0m                                Traceback (most recent call last)",
      "Cell \u001b[0;32mIn[38], line 3\u001b[0m\n\u001b[1;32m      1\u001b[0m total_count \u001b[38;5;241m=\u001b[39m blu_data\u001b[38;5;241m.\u001b[39mgroupby(\u001b[38;5;124m'\u001b[39m\u001b[38;5;124mUsbPort\u001b[39m\u001b[38;5;124m'\u001b[39m)[\u001b[38;5;124m'\u001b[39m\u001b[38;5;124mTagId\u001b[39m\u001b[38;5;124m'\u001b[39m]\u001b[38;5;241m.\u001b[39mnunique()\n\u001b[1;32m      2\u001b[0m \u001b[38;5;28mprint\u001b[39m(\u001b[38;5;28mtype\u001b[39m(total_count))\n\u001b[0;32m----> 3\u001b[0m \u001b[43mtotal_count\u001b[49m\u001b[38;5;241;43m.\u001b[39;49m\u001b[43mplot\u001b[49m\u001b[43m(\u001b[49m\u001b[43mkind\u001b[49m\u001b[38;5;241;43m=\u001b[39;49m\u001b[38;5;124;43m'\u001b[39;49m\u001b[38;5;124;43mscatter\u001b[39;49m\u001b[38;5;124;43m'\u001b[39;49m\u001b[43m)\u001b[49m\n",
      "File \u001b[0;32m/home/linuxbrew/.linuxbrew/Cellar/python@3.10/3.10.6_2/lib/python3.10/site-packages/pandas/plotting/_core.py:977\u001b[0m, in \u001b[0;36mPlotAccessor.__call__\u001b[0;34m(self, *args, **kwargs)\u001b[0m\n\u001b[1;32m    975\u001b[0m         \u001b[38;5;28;01mreturn\u001b[39;00m plot_backend\u001b[38;5;241m.\u001b[39mplot(data, x\u001b[38;5;241m=\u001b[39mx, y\u001b[38;5;241m=\u001b[39my, kind\u001b[38;5;241m=\u001b[39mkind, \u001b[38;5;241m*\u001b[39m\u001b[38;5;241m*\u001b[39mkwargs)\n\u001b[1;32m    976\u001b[0m     \u001b[38;5;28;01melse\u001b[39;00m:\n\u001b[0;32m--> 977\u001b[0m         \u001b[38;5;28;01mraise\u001b[39;00m \u001b[38;5;167;01mValueError\u001b[39;00m(\u001b[38;5;124mf\u001b[39m\u001b[38;5;124m\"\u001b[39m\u001b[38;5;124mplot kind \u001b[39m\u001b[38;5;132;01m{\u001b[39;00mkind\u001b[38;5;132;01m}\u001b[39;00m\u001b[38;5;124m can only be used for data frames\u001b[39m\u001b[38;5;124m\"\u001b[39m)\n\u001b[1;32m    978\u001b[0m \u001b[38;5;28;01melif\u001b[39;00m kind \u001b[38;5;129;01min\u001b[39;00m \u001b[38;5;28mself\u001b[39m\u001b[38;5;241m.\u001b[39m_series_kinds:\n\u001b[1;32m    979\u001b[0m     \u001b[38;5;28;01mif\u001b[39;00m \u001b[38;5;28misinstance\u001b[39m(data, ABCDataFrame):\n",
      "\u001b[0;31mValueError\u001b[0m: plot kind scatter can only be used for data frames"
     ]
    }
   ],
   "source": [
    "total_count = blu_data.groupby('UsbPort')['TagId'].nunique()\n",
    "print(type(total_count))\n",
    "total_count.plot(kind='scatter')"
   ]
  },
  {
   "cell_type": "code",
   "execution_count": 21,
   "metadata": {},
   "outputs": [
    {
     "name": "stdout",
     "output_type": "stream",
     "text": [
      "Empty DataFrame\n",
      "Columns: []\n",
      "Index: []\n"
     ]
    },
    {
     "ename": "KeyError",
     "evalue": "'Time'",
     "output_type": "error",
     "traceback": [
      "\u001b[0;31m---------------------------------------------------------------------------\u001b[0m",
      "\u001b[0;31mKeyError\u001b[0m                                  Traceback (most recent call last)",
      "Cell \u001b[0;32mIn[21], line 5\u001b[0m\n\u001b[1;32m      2\u001b[0m blu_time \u001b[38;5;241m=\u001b[39m pd\u001b[38;5;241m.\u001b[39mDataFrame()\n\u001b[1;32m      3\u001b[0m \u001b[38;5;28mprint\u001b[39m(blu_time)\n\u001b[0;32m----> 5\u001b[0m \u001b[43mblu_time\u001b[49m\u001b[38;5;241;43m.\u001b[39;49m\u001b[43mplot\u001b[49m\u001b[43m(\u001b[49m\u001b[43mx\u001b[49m\u001b[38;5;241;43m=\u001b[39;49m\u001b[38;5;124;43m'\u001b[39;49m\u001b[38;5;124;43mTime\u001b[39;49m\u001b[38;5;124;43m'\u001b[39;49m\u001b[43m,\u001b[49m\u001b[43m \u001b[49m\u001b[43mcolor\u001b[49m\u001b[38;5;241;43m=\u001b[39;49m\u001b[43m[\u001b[49m\u001b[38;5;124;43m'\u001b[39;49m\u001b[38;5;124;43mUsbPort\u001b[39;49m\u001b[38;5;124;43m'\u001b[39;49m\u001b[43m,\u001b[49m\u001b[43m \u001b[49m\u001b[38;5;124;43m'\u001b[39;49m\u001b[38;5;124;43mRadioId\u001b[39;49m\u001b[38;5;124;43m'\u001b[39;49m\u001b[43m]\u001b[49m\u001b[43m)\u001b[49m\n",
      "File \u001b[0;32m/home/linuxbrew/.linuxbrew/Cellar/python@3.10/3.10.6_2/lib/python3.10/site-packages/pandas/plotting/_core.py:995\u001b[0m, in \u001b[0;36mPlotAccessor.__call__\u001b[0;34m(self, *args, **kwargs)\u001b[0m\n\u001b[1;32m    993\u001b[0m \u001b[38;5;28;01mif\u001b[39;00m is_integer(x) \u001b[38;5;129;01mand\u001b[39;00m \u001b[38;5;129;01mnot\u001b[39;00m data\u001b[38;5;241m.\u001b[39mcolumns\u001b[38;5;241m.\u001b[39m_holds_integer():\n\u001b[1;32m    994\u001b[0m     x \u001b[38;5;241m=\u001b[39m data_cols[x]\n\u001b[0;32m--> 995\u001b[0m \u001b[38;5;28;01melif\u001b[39;00m \u001b[38;5;129;01mnot\u001b[39;00m \u001b[38;5;28misinstance\u001b[39m(\u001b[43mdata\u001b[49m\u001b[43m[\u001b[49m\u001b[43mx\u001b[49m\u001b[43m]\u001b[49m, ABCSeries):\n\u001b[1;32m    996\u001b[0m     \u001b[38;5;28;01mraise\u001b[39;00m \u001b[38;5;167;01mValueError\u001b[39;00m(\u001b[38;5;124m\"\u001b[39m\u001b[38;5;124mx must be a label or position\u001b[39m\u001b[38;5;124m\"\u001b[39m)\n\u001b[1;32m    997\u001b[0m data \u001b[38;5;241m=\u001b[39m data\u001b[38;5;241m.\u001b[39mset_index(x)\n",
      "File \u001b[0;32m/home/linuxbrew/.linuxbrew/Cellar/python@3.10/3.10.6_2/lib/python3.10/site-packages/pandas/core/frame.py:4102\u001b[0m, in \u001b[0;36mDataFrame.__getitem__\u001b[0;34m(self, key)\u001b[0m\n\u001b[1;32m   4100\u001b[0m \u001b[38;5;28;01mif\u001b[39;00m \u001b[38;5;28mself\u001b[39m\u001b[38;5;241m.\u001b[39mcolumns\u001b[38;5;241m.\u001b[39mnlevels \u001b[38;5;241m>\u001b[39m \u001b[38;5;241m1\u001b[39m:\n\u001b[1;32m   4101\u001b[0m     \u001b[38;5;28;01mreturn\u001b[39;00m \u001b[38;5;28mself\u001b[39m\u001b[38;5;241m.\u001b[39m_getitem_multilevel(key)\n\u001b[0;32m-> 4102\u001b[0m indexer \u001b[38;5;241m=\u001b[39m \u001b[38;5;28;43mself\u001b[39;49m\u001b[38;5;241;43m.\u001b[39;49m\u001b[43mcolumns\u001b[49m\u001b[38;5;241;43m.\u001b[39;49m\u001b[43mget_loc\u001b[49m\u001b[43m(\u001b[49m\u001b[43mkey\u001b[49m\u001b[43m)\u001b[49m\n\u001b[1;32m   4103\u001b[0m \u001b[38;5;28;01mif\u001b[39;00m is_integer(indexer):\n\u001b[1;32m   4104\u001b[0m     indexer \u001b[38;5;241m=\u001b[39m [indexer]\n",
      "File \u001b[0;32m/home/linuxbrew/.linuxbrew/Cellar/python@3.10/3.10.6_2/lib/python3.10/site-packages/pandas/core/indexes/range.py:417\u001b[0m, in \u001b[0;36mRangeIndex.get_loc\u001b[0;34m(self, key)\u001b[0m\n\u001b[1;32m    415\u001b[0m         \u001b[38;5;28;01mraise\u001b[39;00m \u001b[38;5;167;01mKeyError\u001b[39;00m(key) \u001b[38;5;28;01mfrom\u001b[39;00m \u001b[38;5;21;01merr\u001b[39;00m\n\u001b[1;32m    416\u001b[0m \u001b[38;5;28;01mif\u001b[39;00m \u001b[38;5;28misinstance\u001b[39m(key, Hashable):\n\u001b[0;32m--> 417\u001b[0m     \u001b[38;5;28;01mraise\u001b[39;00m \u001b[38;5;167;01mKeyError\u001b[39;00m(key)\n\u001b[1;32m    418\u001b[0m \u001b[38;5;28mself\u001b[39m\u001b[38;5;241m.\u001b[39m_check_indexing_error(key)\n\u001b[1;32m    419\u001b[0m \u001b[38;5;28;01mraise\u001b[39;00m \u001b[38;5;167;01mKeyError\u001b[39;00m(key)\n",
      "\u001b[0;31mKeyError\u001b[0m: 'Time'"
     ]
    }
   ],
   "source": [
    "# Time Series Graph\n",
    "blu_time = pd.DataFrame()\n",
    "print(blu_time)\n",
    "\n",
    "blu_time.plot(x='Time', color=['UsbPort', 'RadioId'])"
   ]
  }
 ],
 "metadata": {
  "kernelspec": {
   "display_name": "Python 3",
   "language": "python",
   "name": "python3"
  },
  "language_info": {
   "codemirror_mode": {
    "name": "ipython",
    "version": 3
   },
   "file_extension": ".py",
   "mimetype": "text/x-python",
   "name": "python",
   "nbconvert_exporter": "python",
   "pygments_lexer": "ipython3",
   "version": "3.10.6"
  }
 },
 "nbformat": 4,
 "nbformat_minor": 2
}
