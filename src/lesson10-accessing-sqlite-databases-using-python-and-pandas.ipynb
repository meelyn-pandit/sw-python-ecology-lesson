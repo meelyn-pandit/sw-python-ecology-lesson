{
 "cells": [
  {
   "cell_type": "markdown",
   "metadata": {},
   "source": [
    "# Accessing SQLite Databases Using Python and Pandas\n",
    "\n",
    "## Python and SQL\n",
    "\n",
    "When you open a csv in python and assign it a variable name, you are using your computers memory to save that variable.\n",
    "\n",
    "Accessing data from a database like SQL is not only more efficient, but also it allows you to subset and import only the parts of the data that you need.\n",
    "\n",
    "### The `sqlite3` module\n",
    "\n",
    "The [sqlite3](https://docs.python.org/3/library/sqlite3.html) module provides a straightforward interfafce for interacting with SQLite databases. \n",
    "\n",
    "A connection object is created using `sqlite3.connect()`; the connection must be closed at the end of the session with the `.close()` command. \n",
    "\n",
    "While the connection is open, any interactions with the database require you to make a cursor object with the `.cursor()` command.\n",
    "\n",
    "The cursor is then ready to perform all kinds of operations with `.execute()`."
   ]
  },
  {
   "cell_type": "code",
   "execution_count": 4,
   "metadata": {},
   "outputs": [
    {
     "name": "stdout",
     "output_type": "stream",
     "text": [
      "/home/meelyn/Documents/cloud_development/sw-python-ecology-lesson\n",
      "linux\n",
      "('AB', 'Amphispiza', 'bilineata', 'Bird')\n",
      "('AH', 'Ammospermophilus', 'harrisi', 'Rodent')\n",
      "('AS', 'Ammodramus', 'savannarum', 'Bird')\n",
      "('BA', 'Baiomys', 'taylori', 'Rodent')\n",
      "('CB', 'Campylorhynchus', 'brunneicapillus', 'Bird')\n",
      "('CM', 'Calamospiza', 'melanocorys', 'Bird')\n",
      "('CQ', 'Callipepla', 'squamata', 'Bird')\n",
      "('CS', 'Crotalus', 'scutalatus', 'Reptile')\n",
      "('CT', 'Cnemidophorus', 'tigris', 'Reptile')\n",
      "('CU', 'Cnemidophorus', 'uniparens', 'Reptile')\n",
      "('CV', 'Crotalus', 'viridis', 'Reptile')\n",
      "('DM', 'Dipodomys', 'merriami', 'Rodent')\n",
      "('DO', 'Dipodomys', 'ordii', 'Rodent')\n",
      "('DS', 'Dipodomys', 'spectabilis', 'Rodent')\n",
      "('DX', 'Dipodomys', 'sp.', 'Rodent')\n",
      "('EO', 'Eumeces', 'obsoletus', 'Reptile')\n",
      "('GS', 'Gambelia', 'silus', 'Reptile')\n",
      "('NL', 'Neotoma', 'albigula', 'Rodent')\n",
      "('NX', 'Neotoma', 'sp.', 'Rodent')\n",
      "('OL', 'Onychomys', 'leucogaster', 'Rodent')\n",
      "('OT', 'Onychomys', 'torridus', 'Rodent')\n",
      "('OX', 'Onychomys', 'sp.', 'Rodent')\n",
      "('PB', 'Chaetodipus', 'baileyi', 'Rodent')\n",
      "('PC', 'Pipilo', 'chlorurus', 'Bird')\n",
      "('PE', 'Peromyscus', 'eremicus', 'Rodent')\n",
      "('PF', 'Perognathus', 'flavus', 'Rodent')\n",
      "('PG', 'Pooecetes', 'gramineus', 'Bird')\n",
      "('PH', 'Perognathus', 'hispidus', 'Rodent')\n",
      "('PI', 'Chaetodipus', 'intermedius', 'Rodent')\n",
      "('PL', 'Peromyscus', 'leucopus', 'Rodent')\n",
      "('PM', 'Peromyscus', 'maniculatus', 'Rodent')\n",
      "('PP', 'Chaetodipus', 'penicillatus', 'Rodent')\n",
      "('PU', 'Pipilo', 'fuscus', 'Bird')\n",
      "('PX', 'Chaetodipus', 'sp.', 'Rodent')\n",
      "('RF', 'Reithrodontomys', 'fulvescens', 'Rodent')\n",
      "('RM', 'Reithrodontomys', 'megalotis', 'Rodent')\n",
      "('RO', 'Reithrodontomys', 'montanus', 'Rodent')\n",
      "('RX', 'Reithrodontomys', 'sp.', 'Rodent')\n",
      "('SA', 'Sylvilagus', 'audubonii', 'Rabbit')\n",
      "('SB', 'Spizella', 'breweri', 'Bird')\n",
      "('SC', 'Sceloporus', 'clarki', 'Reptile')\n",
      "('SF', 'Sigmodon', 'fulviventer', 'Rodent')\n",
      "('SH', 'Sigmodon', 'hispidus', 'Rodent')\n",
      "('SO', 'Sigmodon', 'ochrognathus', 'Rodent')\n",
      "('SS', 'Spermophilus', 'spilosoma', 'Rodent')\n",
      "('ST', 'Spermophilus', 'tereticaudus', 'Rodent')\n",
      "('SU', 'Sceloporus', 'undulatus', 'Reptile')\n",
      "('SX', 'Sigmodon', 'sp.', 'Rodent')\n",
      "('UL', 'Lizard', 'sp.', 'Reptile')\n",
      "('UP', 'Pipilo', 'sp.', 'Bird')\n",
      "('UR', 'Rodent', 'sp.', 'Rodent')\n",
      "('US', 'Sparrow', 'sp.', 'Bird')\n",
      "('ZL', 'Zonotrichia', 'leucophrys', 'Bird')\n",
      "('ZM', 'Zenaida', 'macroura', 'Bird')\n"
     ]
    }
   ],
   "source": [
    "import sqlite3\n",
    "import os\n",
    "from sys import platform\n",
    "\n",
    "# set working directory\n",
    "\n",
    "print(os.getcwd())\n",
    "\n",
    "if platform == 'linux':\n",
    "    os.chdir('/home/meelyn/Documents/cloud_development/sw-python-ecology-lesson/')\n",
    "else:\n",
    "    os.chdir('/home/meelyn_pandit/Documents/cloud_development/tutorials/software-carpentry/sw-python-ecology-lesson/')\n",
    "\n",
    "print(platform)\n",
    "\n",
    "# Createa SQL connection to our SQLite database\n",
    "con = sqlite3.connect('data/portal_mammals.sqlite')\n",
    "\n",
    "cur = con.cursor()\n",
    "\n",
    "# The result of a \"cursor.execute\" can be iterated over by row\n",
    "for row in cur.execute('select * from species;'):\n",
    "    print(row)\n",
    "\n",
    "# Be sure to close the connection\n",
    "con.close()"
   ]
  },
  {
   "cell_type": "markdown",
   "metadata": {},
   "source": [
    "## Queries\n",
    "\n",
    "One of the most common ways to interact with a database is by querying: retrieving data based on some search parameters.\n",
    "\n",
    "Use a SELECT statement string.\n",
    "\n",
    "The query is returned as a single tuple or a tuple of tuples. \n",
    "\n",
    "Add a WHERE statement to filter your results based on some parameter\n"
   ]
  },
  {
   "cell_type": "code",
   "execution_count": 7,
   "metadata": {},
   "outputs": [
    {
     "name": "stdout",
     "output_type": "stream",
     "text": [
      "[(2,), (4,), (8,), (11,), (12,), (14,), (17,), (22,)]\n",
      "('bilineata',)\n"
     ]
    }
   ],
   "source": [
    "import sqlite3\n",
    "\n",
    "# Create a SQL connection to our SQLite database\n",
    "con = sqlite3.connect('data/portal_mammals.sqlite')\n",
    "\n",
    "cur = con.cursor()\n",
    "\n",
    "# Return all results of query\n",
    "cur.execute('select plot_id from plots where plot_type=\"Control\"')\n",
    "print(cur.fetchall())\n",
    "\n",
    "# Return first result of query\n",
    "cur.execute('select species from species where taxa=\"Bird\"')\n",
    "print(cur.fetchone())\n",
    "\n",
    "# Be sure to close connection\n",
    "con.close()"
   ]
  },
  {
   "cell_type": "markdown",
   "metadata": {},
   "source": [
    "## Accessing data stored in SQLite using Python and Pandas\n",
    "\n",
    "Using pandas, we can import results of an SQLite query into a dataframe.\n",
    "\n",
    "Note that you can use the same SQL commands/syntax that we used in the SQLite lesson."
   ]
  },
  {
   "cell_type": "code",
   "execution_count": 11,
   "metadata": {},
   "outputs": [
    {
     "name": "stdout",
     "output_type": "stream",
     "text": [
      "   record_id  month  day  year  plot_id species_id sex  hindfoot_length  \\\n",
      "0          1      7   16  1977        2         NL   M             32.0   \n",
      "1          2      7   16  1977        3         NL   M             33.0   \n",
      "2          3      7   16  1977        2         DM   F             37.0   \n",
      "3          4      7   16  1977        7         DM   M             36.0   \n",
      "4          5      7   16  1977        3         DM   M             35.0   \n",
      "\n",
      "   weight  \n",
      "0     NaN  \n",
      "1     NaN  \n",
      "2     NaN  \n",
      "3     NaN  \n",
      "4     NaN  \n"
     ]
    }
   ],
   "source": [
    "import pandas as pd\n",
    "import sqlite3\n",
    "\n",
    "# Read sqlite query results into a pandas Dataframe\n",
    "con = sqlite3.connect('data/portal_mammals.sqlite')\n",
    "df = pd.read_sql_query('select * from surveys', con)\n",
    "# print(df)\n",
    "\n",
    "# Verify that results of SQL query is stored in the dataframe\n",
    "print(df.head())\n",
    "\n",
    "con.close()"
   ]
  },
  {
   "cell_type": "markdown",
   "metadata": {},
   "source": [
    "## Storing data: CSV vs SQLite\n",
    "\n",
    "Storing your data in an SQLite database can provide substantial performance improvements when reading/writing compared to CSV.\n",
    "\n",
    "The difference in performance becomes more noticeable as the size of the dataset grows.\n",
    "\n",
    "### Challenge - SQL\n",
    "\n",
    "1. Create a query that contains survey data collected between 1998-2001 for observations of sex 'male' or 'female' that includes observation's genus and species and site type for the sample. How many records are returned?\n",
    "\n",
    "2. Create a dataframe that contains the total number of observations (count) made for all years, and sum of observation weights for each site, ordered by site ID."
   ]
  },
  {
   "cell_type": "code",
   "execution_count": 28,
   "metadata": {},
   "outputs": [
    {
     "name": "stdout",
     "output_type": "stream",
     "text": [
      "The query returned 5546 records.\n",
      "   year  count(*)       1       2       3       4       5       6      7  \\\n",
      "0  1977       503   567.0   784.0   237.0   849.0   943.0   578.0  202.0   \n",
      "1  1978      1048  4628.0  4789.0  1131.0  4291.0  4051.0  2371.0   43.0   \n",
      "2  1979       719  1909.0  2501.0   430.0  2438.0  1798.0   988.0  141.0   \n",
      "3  1980      1415  5374.0  4643.0  1817.0  7466.0  2743.0  3219.0  362.0   \n",
      "4  1981      1472  6229.0  6282.0  1343.0  4553.0  3596.0  5430.0   24.0   \n",
      "\n",
      "        8  ...      15     16      17      18     19      20     21      22  \\\n",
      "0   595.0  ...    48.0  132.0  1102.0   646.0  336.0   640.0   40.0   316.0   \n",
      "1  3669.0  ...   734.0  548.0  4971.0  4393.0  124.0  2623.0  239.0  2833.0   \n",
      "2  1954.0  ...   472.0  308.0  3736.0  3099.0  379.0  2617.0  157.0  2250.0   \n",
      "3  3596.0  ...  1071.0  529.0  5877.0  5075.0  691.0  5523.0  321.0  3763.0   \n",
      "4  4946.0  ...  1083.0  176.0  5050.0  4773.0  410.0  5379.0  600.0  5268.0   \n",
      "\n",
      "      23      24  \n",
      "0  169.0     NaN  \n",
      "1    NaN     NaN  \n",
      "2  137.0   901.0  \n",
      "3  742.0  4392.0  \n",
      "4   57.0  3987.0  \n",
      "\n",
      "[5 rows x 26 columns]\n"
     ]
    }
   ],
   "source": [
    "# 1.\n",
    "import sqlite3\n",
    "import pandas as pd\n",
    "\n",
    "# Read sqlite queries\n",
    "con = sqlite3.connect('data/portal_mammals.sqlite')\n",
    "\n",
    "cur = con.cursor() # what does this do??? used to fetch data and create tables?\n",
    "\n",
    "# Return all results of query: year, plot type (site type), genus, species, and sex\n",
    "# from the join of the tables surveys, plots, and species, for the years 1998-2001 where sex is 'M' or 'F'.\n",
    "\n",
    "cur.execute('select surveys.year, surveys.plot_id, plots.plot_type, species.genus, species.species, surveys.sex \\\n",
    "            from surveys inner join plots on surveys.plot_id = plots.plot_id inner join species on\\\n",
    "            surveys.species_id = species.species_id where surveys.year>=1998 and surveys.year<=2001 \\\n",
    "            and ( surveys.sex = \"M\" OR surveys.sex=\"F\")')\n",
    "\n",
    "print('The query returned ' + str(len(cur.fetchall())) + ' records.')\n",
    "\n",
    "\n",
    "# 2.\n",
    "# Create two sqlite queries results, read as pandas DataFrame\n",
    "# Include 'year' in both queries so we have something to merge (join) on.\n",
    "df1 = pd.read_sql_query('select year, count(*) from surveys group by year', con)\n",
    "df2 = pd.read_sql_query('select year, plot_id, sum(weight) from surveys group by \\\n",
    "                        year, plot_id order by plot_id asc', con)\n",
    "\n",
    "# Turn the plot_id column values into column names by pivoting\n",
    "df2 = df2.pivot(index='year', columns='plot_id')['sum(weight)']\n",
    "df = pd.merge(df1, df2, on='year')\n",
    "\n",
    "# Verify that result of the SQL queries is stored in the combined dataframe\n",
    "print(df.head())\n",
    "\n",
    "con.close()"
   ]
  },
  {
   "cell_type": "markdown",
   "metadata": {},
   "source": [
    "## Storing data: Create new tables using Pandas\n",
    "\n",
    "We can also use pandas to create new tables within an SQLite database. Here, we re-do an exercise we did beffore with CSV files using our SQLite database.\n",
    "\n",
    "We first read in our survey data, then select only those survey results for 2002, and then save it out to its own table so we can work with it on its own later."
   ]
  },
  {
   "cell_type": "code",
   "execution_count": 31,
   "metadata": {},
   "outputs": [
    {
     "name": "stdout",
     "output_type": "stream",
     "text": [
      "       record_id  month  day  year  plot_id species_id   sex  hindfoot_length  \\\n",
      "33320      33321      1   12  2002        1         DM     M             38.0   \n",
      "33321      33322      1   12  2002        1         DO     M             37.0   \n",
      "33322      33323      1   12  2002        1         PB     M             28.0   \n",
      "33323      33324      1   12  2002        1         AB  None              NaN   \n",
      "33324      33325      1   12  2002        1         DO     M             35.0   \n",
      "\n",
      "       weight  \n",
      "33320    44.0  \n",
      "33321    58.0  \n",
      "33322    45.0  \n",
      "33323     NaN  \n",
      "33324    29.0  \n",
      "       record_id  month  day  year  plot_id species_id   sex  hindfoot_length  \\\n",
      "33320      33321      1   12  2002        1         DM     M             38.0   \n",
      "33321      33322      1   12  2002        1         DO     M             37.0   \n",
      "33322      33323      1   12  2002        1         PB     M             28.0   \n",
      "33323      33324      1   12  2002        1         AB  None              NaN   \n",
      "33324      33325      1   12  2002        1         DO     M             35.0   \n",
      "\n",
      "       weight  \n",
      "33320    44.0  \n",
      "33321    58.0  \n",
      "33322    45.0  \n",
      "33323     NaN  \n",
      "33324    29.0  \n"
     ]
    }
   ],
   "source": [
    "import pandas as pd\n",
    "import sqlite3\n",
    "\n",
    "con = sqlite3.connect('data/portal_mammals.sqlite')\n",
    "\n",
    "# Load the data into a dataframe\n",
    "surveys_df = pd.read_sql_query('select * from surveys', con)\n",
    "\n",
    "# Select only data for 2002\n",
    "surveys2002 = surveys_df[surveys_df.year == 2002]\n",
    "print(surveys2002.head())\n",
    "\n",
    "# Write the new Dataframe to a new SQLite table\n",
    "surveys2002.to_sql('surveys2002', con, if_exists='replace')\n",
    "\n",
    "print(surveys2002.head())\n",
    "con.close()"
   ]
  },
  {
   "cell_type": "markdown",
   "metadata": {},
   "source": [
    "## Saving changes to sqlite database"
   ]
  },
  {
   "cell_type": "code",
   "execution_count": 40,
   "metadata": {},
   "outputs": [
    {
     "name": "stdout",
     "output_type": "stream",
     "text": [
      "[(0, 1977, 503, 567.0, 784.0, 237.0, 849.0, 943.0, 578.0, 202.0, 595.0, 894.0, None, 1217.0, 741.0, 571.0, 802.0, 48.0, 132.0, 1102.0, 646.0, 336.0, 640.0, 40.0, 316.0, 169.0, None), (1, 1978, 1048, 4628.0, 4789.0, 1131.0, 4291.0, 4051.0, 2371.0, 43.0, 3669.0, 5068.0, None, 3857.0, 4036.0, 1651.0, 2897.0, 734.0, 548.0, 4971.0, 4393.0, 124.0, 2623.0, 239.0, 2833.0, None, None), (2, 1979, 719, 1909.0, 2501.0, 430.0, 2438.0, 1798.0, 988.0, 141.0, 1954.0, 3842.0, 112.0, 1819.0, 3423.0, 1851.0, 3181.0, 472.0, 308.0, 3736.0, 3099.0, 379.0, 2617.0, 157.0, 2250.0, 137.0, 901.0), (3, 1980, 1415, 5374.0, 4643.0, 1817.0, 7466.0, 2743.0, 3219.0, 362.0, 3596.0, 6054.0, 548.0, 3717.0, 6290.0, 4534.0, 3898.0, 1071.0, 529.0, 5877.0, 5075.0, 691.0, 5523.0, 321.0, 3763.0, 742.0, 4392.0), (4, 1981, 1472, 6229.0, 6282.0, 1343.0, 4553.0, 3596.0, 5430.0, 24.0, 4946.0, 6812.0, 449.0, 4988.0, 6880.0, 6339.0, 4762.0, 1083.0, 176.0, 5050.0, 4773.0, 410.0, 5379.0, 600.0, 5268.0, 57.0, 3987.0), (5, 1982, 1978, 6621.0, 7106.0, 2349.0, 5551.0, 6844.0, 4811.0, 604.0, 3851.0, 7518.0, 505.0, 6021.0, 7081.0, 4635.0, 4776.0, 2211.0, 832.0, 4075.0, 4810.0, 968.0, 5641.0, 581.0, 6378.0, 805.0, 4409.0), (6, 1983, 1673, 8224.0, 5421.0, 1437.0, 4188.0, 3871.0, 3774.0, 294.0, 3790.0, 4530.0, 74.0, 6203.0, 7288.0, 4741.0, 4362.0, 1583.0, 359.0, 4030.0, 4986.0, 705.0, 5128.0, 659.0, 5938.0, 173.0, 3982.0), (7, 1984, 981, 2367.0, 2200.0, 2517.0, 2777.0, 2199.0, 1640.0, 54.0, 2492.0, 2746.0, 52.0, 2813.0, 3756.0, 1265.0, 2200.0, 1637.0, 364.0, 2207.0, 2779.0, 170.0, 2941.0, 239.0, 2316.0, 302.0, 2808.0), (8, 1985, 1438, 6511.0, 4931.0, 2291.0, 3685.0, 3371.0, 3666.0, 292.0, 4963.0, 3659.0, 85.0, 2985.0, 5340.0, 3109.0, 2985.0, 147.0, 693.0, 3093.0, 2318.0, 397.0, 2225.0, 981.0, 1849.0, 126.0, 2215.0), (9, 1986, 942, 4283.0, 4302.0, 1891.0, 3184.0, 2334.0, 1497.0, 188.0, 3289.0, 3308.0, 80.0, 2794.0, 4171.0, 1979.0, 3760.0, 110.0, 93.0, 2500.0, 1324.0, 227.0, 1754.0, 399.0, 1527.0, 317.0, 1650.0), (10, 1987, 1671, 6460.0, 7693.0, 2768.0, 5090.0, 2497.0, 3046.0, 1324.0, 4424.0, 6669.0, 453.0, 2936.0, 4260.0, 3263.0, 3394.0, 873.0, 1207.0, 3123.0, 3149.0, 802.0, 3742.0, 624.0, 3192.0, 624.0, 3393.0), (11, 1988, 1469, 3862.0, 4291.0, 2491.0, 4273.0, 1847.0, 1835.0, 1833.0, 5557.0, 3728.0, 713.0, 3739.0, 3742.0, 1829.0, 2476.0, 1744.0, 439.0, 3224.0, 712.0, 669.0, 3037.0, 988.0, 3969.0, 702.0, 2089.0), (12, 1989, 1569, 2936.0, 2692.0, 3873.0, 3527.0, 1623.0, 883.0, 1090.0, 4415.0, 3526.0, 298.0, 2397.0, 3785.0, 670.0, 2729.0, 786.0, 395.0, 3840.0, 576.0, 1155.0, 2132.0, 2710.0, 3271.0, 340.0, 1802.0), (13, 1990, 1311, 3290.0, 2829.0, 1518.0, 5547.0, 388.0, 611.0, 627.0, 3615.0, 3489.0, 228.0, 4191.0, 3385.0, 680.0, 2795.0, 451.0, 101.0, 3500.0, 1303.0, 769.0, 578.0, 544.0, 1848.0, 232.0, 380.0), (14, 1991, 1347, 3444.0, 3811.0, 1977.0, 3542.0, 593.0, 554.0, 746.0, 3692.0, 2949.0, 147.0, 2365.0, 2055.0, 909.0, 2549.0, 400.0, 163.0, 2706.0, 1328.0, 941.0, 930.0, 297.0, 1777.0, 437.0, 905.0), (15, 1992, 1038, 2563.0, 2774.0, 1911.0, 2154.0, 647.0, 434.0, 510.0, 2065.0, 2077.0, 123.0, 1874.0, 2333.0, 1099.0, 2959.0, 98.0, 89.0, 2580.0, 552.0, 384.0, 368.0, 295.0, 1594.0, 137.0, 442.0), (16, 1993, 750, 1018.0, 1614.0, 1915.0, 1072.0, 390.0, 473.0, 309.0, 1488.0, 1554.0, 53.0, 1612.0, 1816.0, 599.0, 2280.0, 141.0, 184.0, 1918.0, 561.0, 474.0, 177.0, 253.0, 1656.0, 44.0, 401.0), (17, 1994, 668, 1172.0, 1451.0, 1350.0, 1307.0, 509.0, 160.0, 213.0, 1612.0, 870.0, 10.0, 1591.0, 2017.0, 873.0, 1597.0, 121.0, 119.0, 1904.0, 141.0, 273.0, 132.0, 313.0, 1302.0, 40.0, 200.0), (18, 1995, 1222, 2555.0, 2628.0, 1477.0, 2633.0, 452.0, 536.0, 247.0, 2389.0, 2985.0, 120.0, 2562.0, 2402.0, 1301.0, 3106.0, 399.0, 151.0, 2657.0, 452.0, 435.0, 437.0, 538.0, 1053.0, 59.0, 496.0), (19, 1996, 1706, 3136.0, 4122.0, 3044.0, 2895.0, 843.0, 1476.0, 698.0, 3268.0, 2885.0, 108.0, 2174.0, 4625.0, 1729.0, 3420.0, 1345.0, 777.0, 3056.0, 639.0, 887.0, 848.0, 930.0, 2026.0, 269.0, 411.0), (20, 1997, 2493, 5326.0, 6733.0, 3679.0, 4402.0, 1068.0, 3479.0, 1485.0, 4339.0, 3723.0, 520.0, 3442.0, 7911.0, 1959.0, 5327.0, 1864.0, 1426.0, 5831.0, 1651.0, 2102.0, 2110.0, 2254.0, 3760.0, 615.0, 1826.0), (21, 1998, 1610, 2314.0, 5362.0, 2242.0, 2608.0, 519.0, 1279.0, 512.0, 2688.0, 2310.0, 247.0, 2216.0, 5782.0, 1920.0, 2787.0, 1072.0, 578.0, 4162.0, 1286.0, 1706.0, 847.0, 2005.0, 2814.0, 183.0, 1144.0), (22, 1999, 1135, 2403.0, 3923.0, 1945.0, 2340.0, 1300.0, 1152.0, 108.0, 2046.0, 2626.0, 23.0, 2068.0, 4266.0, 1891.0, 1200.0, 485.0, 189.0, 2753.0, 1062.0, 2048.0, 715.0, 1769.0, 2268.0, 154.0, 507.0), (23, 2000, 1552, 3516.0, 5095.0, 2699.0, 2863.0, 58.0, 1791.0, 151.0, 2967.0, 3087.0, 42.0, 2041.0, 4069.0, 1546.0, 2171.0, 897.0, 346.0, 3279.0, 1684.0, 1414.0, 2236.0, 1711.0, 2327.0, 19.0, 704.0), (24, 2001, 1610, 3561.0, 4769.0, 2608.0, 2698.0, 89.0, 2853.0, 473.0, 2834.0, 2831.0, None, 2718.0, 3460.0, 1638.0, 3610.0, 1207.0, 432.0, 4244.0, 1509.0, 1536.0, 3171.0, 2514.0, 2126.0, 174.0, 1607.0), (25, 2002, 2229, 4350.0, 5624.0, 4899.0, 3501.0, 142.0, 5213.0, 653.0, 4513.0, 3404.0, 183.0, 3569.0, 4918.0, 2870.0, 3944.0, 2521.0, 1171.0, 5237.0, 3240.0, 2876.0, 3538.0, 3381.0, 2861.0, 388.0, 1281.0)]\n"
     ]
    }
   ],
   "source": [
    "# connect to database\n",
    "con = sqlite3.connect('data/portal_mammals.sqlite')\n",
    "\n",
    "# read results into dataframe\n",
    "df1 = pd.read_sql_query('select surveys.year, plots.plot_type, species.genus, species.species_id, surveys.sex \\\n",
    "                        from surveys inner join plots on surveys.plot_id = plots.plot_id inner join species on \\\n",
    "                        surveys.species_id = species.species_id where surveys.year >=1998 and surveys.year <=2001 \\\n",
    "                        and ( surveys.sex = \"M\" or surveys.sex = \"F\")', con)\n",
    "\n",
    "df1.to_sql('New Table 1', con, if_exists='replace')\n",
    "\n",
    "# We already have the 'df' dataframe created in the earlier exercise\n",
    "df.to_sql('new_table_2', con, if_exists='replace')\n",
    "cur = con.cursor()\n",
    "\n",
    "cur.execute('select * from new_table_2')\n",
    "print(cur.fetchall())\n",
    "\n",
    "# Close the connection\n",
    "con.close()\n"
   ]
  },
  {
   "cell_type": "markdown",
   "metadata": {},
   "source": [
    "## Key Points\n",
    "\n",
    "* sqlite3 provides a SQL-like interface to read, query, and write SQL databases from Python.\n",
    "* sqlite3 can be used with Pandas to read SQL data to the familiar Pandas dataframe\n",
    "* Pandas and sqlite3 can also be used to transfer between csv and sql formats"
   ]
  }
 ],
 "metadata": {
  "kernelspec": {
   "display_name": "Python 3",
   "language": "python",
   "name": "python3"
  },
  "language_info": {
   "codemirror_mode": {
    "name": "ipython",
    "version": 3
   },
   "file_extension": ".py",
   "mimetype": "text/x-python",
   "name": "python",
   "nbconvert_exporter": "python",
   "pygments_lexer": "ipython3",
   "version": "3.10.6"
  }
 },
 "nbformat": 4,
 "nbformat_minor": 2
}
