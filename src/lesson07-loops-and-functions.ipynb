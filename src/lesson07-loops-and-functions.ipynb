{
 "cells": [
  {
   "cell_type": "markdown",
   "metadata": {},
   "source": [
    "## Lesson 07 - Data Workflows and Automation\n",
    "Functions and For Loops"
   ]
  },
  {
   "cell_type": "code",
   "execution_count": 2,
   "metadata": {},
   "outputs": [
    {
     "name": "stdout",
     "output_type": "stream",
     "text": [
      "['lion', 'tiger', 'crocodile', 'vulture', 'hippo']\n",
      "lion\n",
      "tiger\n",
      "crocodile\n",
      "vulture\n",
      "hippo\n"
     ]
    }
   ],
   "source": [
    "# For loops\n",
    "animals = ['lion', 'tiger', 'crocodile', 'vulture', 'hippo'] # again this is a list (array in js)\n",
    "print(animals) # prints list\n",
    "\n",
    "for creature in animals:\n",
    "    print(creature) # prints each element in list on a newline\n"
   ]
  },
  {
   "cell_type": "code",
   "execution_count": 9,
   "metadata": {},
   "outputs": [
    {
     "ename": "SyntaxError",
     "evalue": "incomplete input (520799738.py, line 2)",
     "output_type": "error",
     "traceback": [
      "\u001b[0;36m  Cell \u001b[0;32mIn[9], line 2\u001b[0;36m\u001b[0m\n\u001b[0;31m    # pass # pass means do nothing\u001b[0m\n\u001b[0m                                  ^\u001b[0m\n\u001b[0;31mSyntaxError\u001b[0m\u001b[0;31m:\u001b[0m incomplete input\n"
     ]
    }
   ],
   "source": [
    "for creature in animals:\n",
    "    # pass # pass means do nothing\n"
   ]
  },
  {
   "cell_type": "code",
   "execution_count": 8,
   "metadata": {},
   "outputs": [
    {
     "name": "stdout",
     "output_type": "stream",
     "text": [
      "The loop variable is now: hippo\n"
     ]
    }
   ],
   "source": [
    "# for creature in animals:\n",
    "print('The loop variable is now: ' + creature)\n"
   ]
  },
  {
   "cell_type": "code",
   "execution_count": 11,
   "metadata": {},
   "outputs": [
    {
     "ename": "SyntaxError",
     "evalue": "incomplete input (2039767945.py, line 6)",
     "output_type": "error",
     "traceback": [
      "\u001b[0;36m  Cell \u001b[0;32mIn[11], line 6\u001b[0;36m\u001b[0m\n\u001b[0;31m    ### error, incomplete input\u001b[0m\n\u001b[0m                               ^\u001b[0m\n\u001b[0;31mSyntaxError\u001b[0m\u001b[0;31m:\u001b[0m incomplete input\n"
     ]
    }
   ],
   "source": [
    "# Challenge - Loops\n",
    "\n",
    "## 1 What happens if we don't include the pass statement?\n",
    "for creature in animals:\n",
    "\n",
    "    ### error, incomplete input\n"
   ]
  },
  {
   "cell_type": "code",
   "execution_count": 8,
   "metadata": {},
   "outputs": [
    {
     "name": "stdout",
     "output_type": "stream",
     "text": [
      "lion, tiger, crocodile, vulture, hippo\n"
     ]
    }
   ],
   "source": [
    "# Challenge - Loops\n",
    "## 2. Rewrite the loops so that the animals are separated by commas not new lines\n",
    "\n",
    "# for creature in animals:\n",
    "    # print(creature + ', ', end='') # use end argument to print without newlines\n",
    "\n",
    "# to avoid having comma at the end of list, use join method.\n",
    "## string objects in python have a join() method, which can be used to concatenate items in a list with the string inbetween\n",
    "\n",
    "\n",
    "print(', '.join(animals)) # .join() is iterative"
   ]
  },
  {
   "cell_type": "markdown",
   "metadata": {},
   "source": [
    "### Automating data processing using for loops\n",
    "\n",
    "Separate the suveys.csv datafile into dataframes for each year, 25 years in total"
   ]
  },
  {
   "cell_type": "code",
   "execution_count": 11,
   "metadata": {},
   "outputs": [
    {
     "name": "stdout",
     "output_type": "stream",
     "text": [
      "/home/meelyn/Documents/cloud_development/sw-python-ecology-lesson\n"
     ]
    },
    {
     "ename": "FileExistsError",
     "evalue": "[Errno 17] File exists: 'data/yearly_files'",
     "output_type": "error",
     "traceback": [
      "\u001b[0;31m---------------------------------------------------------------------------\u001b[0m",
      "\u001b[0;31mFileExistsError\u001b[0m                           Traceback (most recent call last)",
      "Cell \u001b[0;32mIn[11], line 7\u001b[0m\n\u001b[1;32m      4\u001b[0m \u001b[38;5;28mprint\u001b[39m(pwd)\n\u001b[1;32m      6\u001b[0m os\u001b[38;5;241m.\u001b[39mchdir(\u001b[38;5;124m'\u001b[39m\u001b[38;5;124m/home/meelyn/Documents/cloud_development/sw-python-ecology-lesson\u001b[39m\u001b[38;5;124m'\u001b[39m)\n\u001b[0;32m----> 7\u001b[0m \u001b[43mos\u001b[49m\u001b[38;5;241;43m.\u001b[39;49m\u001b[43mmkdir\u001b[49m\u001b[43m(\u001b[49m\u001b[38;5;124;43m'\u001b[39;49m\u001b[38;5;124;43mdata/yearly_files\u001b[39;49m\u001b[38;5;124;43m'\u001b[39;49m\u001b[43m)\u001b[49m\n",
      "\u001b[0;31mFileExistsError\u001b[0m: [Errno 17] File exists: 'data/yearly_files'"
     ]
    }
   ],
   "source": [
    "import os\n",
    "\n",
    "pwd = os.getcwd()\n",
    "print(pwd)\n",
    "\n",
    "os.chdir('/home/meelyn/Documents/cloud_development/sw-python-ecology-lesson')\n",
    "os.mkdir('data/yearly_files') # makes new directory\n"
   ]
  },
  {
   "cell_type": "code",
   "execution_count": 13,
   "metadata": {},
   "outputs": [
    {
     "data": {
      "text/plain": [
       "['species.csv',\n",
       " 'surveys2001.csv',\n",
       " 'surveys2002.csv',\n",
       " 'README.txt',\n",
       " 'yearly_files',\n",
       " 'speciesSubset.csv',\n",
       " 'surveys2001_2002',\n",
       " 'out.csv',\n",
       " 'plots.csv',\n",
       " 'surveys.csv',\n",
       " 'portal_mammals.sqlite',\n",
       " 'bouldercreek_09_2013.txt']"
      ]
     },
     "execution_count": 13,
     "metadata": {},
     "output_type": "execute_result"
    }
   ],
   "source": [
    "# list directories and files in data directory\n",
    "os.listdir('data') # creates a list"
   ]
  },
  {
   "cell_type": "code",
   "execution_count": 14,
   "metadata": {},
   "outputs": [],
   "source": [
    "# for the year 2002, load species data into a dataframe, select a subset of data using some criteria, and write the dataframe to a csv file.\n",
    "import pandas as pd\n",
    "\n",
    "# load the data into a dataframe\n",
    "surveys_df = pd.read_csv('data/surveys.csv')\n",
    "\n",
    "# select only data for the year 2002\n",
    "surveys2002 = surveys_df[surveys_df.year == 2002]\n",
    "\n",
    "# write new dataframe to a csv file\n",
    "surveys2002.to_csv('data/yearly_files/surveys2002.csv')"
   ]
  },
  {
   "cell_type": "code",
   "execution_count": 18,
   "metadata": {},
   "outputs": [
    {
     "name": "stdout",
     "output_type": "stream",
     "text": [
      "data/yearly/surveys1977.csv\n",
      "data/yearly/surveys1978.csv\n",
      "data/yearly/surveys1979.csv\n",
      "data/yearly/surveys1980.csv\n",
      "data/yearly/surveys1981.csv\n",
      "data/yearly/surveys1982.csv\n",
      "data/yearly/surveys1983.csv\n",
      "data/yearly/surveys1984.csv\n",
      "data/yearly/surveys1985.csv\n",
      "data/yearly/surveys1986.csv\n",
      "data/yearly/surveys1987.csv\n",
      "data/yearly/surveys1988.csv\n",
      "data/yearly/surveys1989.csv\n",
      "data/yearly/surveys1990.csv\n",
      "data/yearly/surveys1991.csv\n",
      "data/yearly/surveys1992.csv\n",
      "data/yearly/surveys1993.csv\n",
      "data/yearly/surveys1994.csv\n",
      "data/yearly/surveys1995.csv\n",
      "data/yearly/surveys1996.csv\n",
      "data/yearly/surveys1997.csv\n",
      "data/yearly/surveys1998.csv\n",
      "data/yearly/surveys1999.csv\n",
      "data/yearly/surveys2000.csv\n",
      "data/yearly/surveys2001.csv\n",
      "data/yearly/surveys2002.csv\n"
     ]
    }
   ],
   "source": [
    "# instead of repeating the above cell for each unique year, need to iterate\n",
    "\n",
    "surveys_df['year'].unique() # unique and nunique are different\n",
    "\n",
    "for year in surveys_df['year'].unique():\n",
    "    filename='data/yearly/surveys' + str(year) + '.csv'\n",
    "    print(filename)"
   ]
  },
  {
   "cell_type": "code",
   "execution_count": null,
   "metadata": {},
   "outputs": [],
   "source": [
    "# now to write the yearly data to unique files\n",
    "for year in surveys_df['year'].unique():\n",
    "    # select data for the year\n",
    "    surveys_year = surveys_df[surveys_df.year == year]\n",
    "    \n",
    "    # write the new dataframe to a csv file\n",
    "    filename='data/yearly/surveys' + str(year) + '.csv'\n",
    "    print(filename)\n",
    "    surveys_year.to_csv(filename)"
   ]
  }
 ],
 "metadata": {
  "kernelspec": {
   "display_name": "Python 3",
   "language": "python",
   "name": "python3"
  },
  "language_info": {
   "codemirror_mode": {
    "name": "ipython",
    "version": 3
   },
   "file_extension": ".py",
   "mimetype": "text/x-python",
   "name": "python",
   "nbconvert_exporter": "python",
   "pygments_lexer": "ipython3",
   "version": "3.10.6"
  }
 },
 "nbformat": 4,
 "nbformat_minor": 2
}
