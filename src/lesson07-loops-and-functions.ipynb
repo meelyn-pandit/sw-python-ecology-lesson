{
 "cells": [
  {
   "cell_type": "markdown",
   "metadata": {},
   "source": [
    "## Lesson 07 - Data Workflows and Automation\n",
    "Functions and For Loops"
   ]
  },
  {
   "cell_type": "code",
   "execution_count": 4,
   "metadata": {},
   "outputs": [
    {
     "name": "stdout",
     "output_type": "stream",
     "text": [
      "['lion', 'tiger', 'crocodile', 'vulture', 'hippo']\n",
      "lion\n",
      "tiger\n",
      "crocodile\n",
      "vulture\n",
      "hippo\n"
     ]
    }
   ],
   "source": [
    "# For loops\n",
    "animals = ['lion', 'tiger', 'crocodile', 'vulture', 'hippo'] # again this is a list (array in js)\n",
    "print(animals) # prints list\n",
    "\n",
    "for creature in animals:\n",
    "    print(creature) # prints each element in list on a newline\n"
   ]
  },
  {
   "cell_type": "code",
   "execution_count": 5,
   "metadata": {},
   "outputs": [
    {
     "ename": "SyntaxError",
     "evalue": "incomplete input (520799738.py, line 2)",
     "output_type": "error",
     "traceback": [
      "\u001b[0;36m  Cell \u001b[0;32mIn[5], line 2\u001b[0;36m\u001b[0m\n\u001b[0;31m    # pass # pass means do nothing\u001b[0m\n\u001b[0m                                  ^\u001b[0m\n\u001b[0;31mSyntaxError\u001b[0m\u001b[0;31m:\u001b[0m incomplete input\n"
     ]
    }
   ],
   "source": [
    "for creature in animals:\n",
    "    # pass # pass means do nothing\n"
   ]
  },
  {
   "cell_type": "code",
   "execution_count": null,
   "metadata": {},
   "outputs": [
    {
     "name": "stdout",
     "output_type": "stream",
     "text": [
      "The loop variable is now: hippo\n"
     ]
    }
   ],
   "source": [
    "# for creature in animals:\n",
    "print('The loop variable is now: ' + creature)\n"
   ]
  },
  {
   "cell_type": "code",
   "execution_count": null,
   "metadata": {},
   "outputs": [
    {
     "ename": "SyntaxError",
     "evalue": "incomplete input (2039767945.py, line 6)",
     "output_type": "error",
     "traceback": [
      "\u001b[0;36m  Cell \u001b[0;32mIn[11], line 6\u001b[0;36m\u001b[0m\n\u001b[0;31m    ### error, incomplete input\u001b[0m\n\u001b[0m                               ^\u001b[0m\n\u001b[0;31mSyntaxError\u001b[0m\u001b[0;31m:\u001b[0m incomplete input\n"
     ]
    }
   ],
   "source": [
    "# Challenge - Loops\n",
    "\n",
    "## 1 What happens if we don't include the pass statement?\n",
    "for creature in animals:\n",
    "\n",
    "    ### error, incomplete input\n"
   ]
  },
  {
   "cell_type": "code",
   "execution_count": null,
   "metadata": {},
   "outputs": [
    {
     "name": "stdout",
     "output_type": "stream",
     "text": [
      "lion, tiger, crocodile, vulture, hippo\n"
     ]
    }
   ],
   "source": [
    "# Challenge - Loops\n",
    "## 2. Rewrite the loops so that the animals are separated by commas not new lines\n",
    "\n",
    "# for creature in animals:\n",
    "    # print(creature + ', ', end='') # use end argument to print without newlines\n",
    "\n",
    "# to avoid having comma at the end of list, use join method.\n",
    "## string objects in python have a join() method, which can be used to concatenate items in a list with the string inbetween\n",
    "\n",
    "\n",
    "print(', '.join(animals)) # .join() is iterative"
   ]
  },
  {
   "cell_type": "markdown",
   "metadata": {},
   "source": [
    "### Automating data processing using for loops\n",
    "\n",
    "Separate the suveys.csv datafile into dataframes for each year, 25 years in total"
   ]
  },
  {
   "cell_type": "code",
   "execution_count": 13,
   "metadata": {},
   "outputs": [
    {
     "name": "stdout",
     "output_type": "stream",
     "text": [
      "/home/meelyn/Documents/cloud_development/sw-python-ecology-lesson/src\n",
      "\n",
      " current directory /home/meelyn/Documents/cloud_development/sw-python-ecology-lesson \n",
      "\n"
     ]
    },
    {
     "ename": "FileExistsError",
     "evalue": "[Errno 17] File exists: 'data/yearly_files'",
     "output_type": "error",
     "traceback": [
      "\u001b[0;31m---------------------------------------------------------------------------\u001b[0m",
      "\u001b[0;31mFileExistsError\u001b[0m                           Traceback (most recent call last)",
      "Cell \u001b[0;32mIn[13], line 9\u001b[0m\n\u001b[1;32m      7\u001b[0m \u001b[38;5;66;03m# os.chdir('/home/meelyn_pandit/Documents/cloud_development/tutorials/software-carpentry/sw-python-ecology-lesson/')\u001b[39;00m\n\u001b[1;32m      8\u001b[0m \u001b[38;5;28mprint\u001b[39m(\u001b[38;5;124m'\u001b[39m\u001b[38;5;130;01m\\n\u001b[39;00m\u001b[38;5;124m'\u001b[39m, \u001b[38;5;124m'\u001b[39m\u001b[38;5;124mcurrent directory\u001b[39m\u001b[38;5;124m'\u001b[39m, os\u001b[38;5;241m.\u001b[39mgetcwd(),\u001b[38;5;124m'\u001b[39m\u001b[38;5;130;01m\\n\u001b[39;00m\u001b[38;5;124m'\u001b[39m)\n\u001b[0;32m----> 9\u001b[0m \u001b[43mos\u001b[49m\u001b[38;5;241;43m.\u001b[39;49m\u001b[43mmkdir\u001b[49m\u001b[43m(\u001b[49m\u001b[38;5;124;43m'\u001b[39;49m\u001b[38;5;124;43mdata/yearly_files\u001b[39;49m\u001b[38;5;124;43m'\u001b[39;49m\u001b[43m)\u001b[49m \u001b[38;5;66;03m# makes new directory\u001b[39;00m\n",
      "\u001b[0;31mFileExistsError\u001b[0m: [Errno 17] File exists: 'data/yearly_files'"
     ]
    }
   ],
   "source": [
    "import os\n",
    "\n",
    "pwd = os.getcwd()\n",
    "print(pwd)\n",
    "\n",
    "os.chdir('/home/meelyn/Documents/cloud_development/sw-python-ecology-lesson')\n",
    "# os.chdir('/home/meelyn_pandit/Documents/cloud_development/tutorials/software-carpentry/sw-python-ecology-lesson/')\n",
    "print('\\n', 'current directory', os.getcwd(),'\\n')\n",
    "os.mkdir('data/yearly_files') # makes new directory\n"
   ]
  },
  {
   "cell_type": "code",
   "execution_count": null,
   "metadata": {},
   "outputs": [
    {
     "data": {
      "text/plain": [
       "['species.csv',\n",
       " 'surveys2001.csv',\n",
       " 'surveys2002.csv',\n",
       " 'README.txt',\n",
       " 'yearly_files',\n",
       " 'speciesSubset.csv',\n",
       " 'surveys2001_2002',\n",
       " 'out.csv',\n",
       " 'plots.csv',\n",
       " 'surveys.csv',\n",
       " 'portal_mammals.sqlite',\n",
       " 'bouldercreek_09_2013.txt']"
      ]
     },
     "execution_count": 13,
     "metadata": {},
     "output_type": "execute_result"
    }
   ],
   "source": [
    "# list directories and files in data directory\n",
    "os.listdir('data') # creates a list"
   ]
  },
  {
   "cell_type": "code",
   "execution_count": 14,
   "metadata": {},
   "outputs": [
    {
     "name": "stdout",
     "output_type": "stream",
     "text": [
      "directory /home/meelyn/Documents/cloud_development/sw-python-ecology-lesson \n",
      "\n"
     ]
    }
   ],
   "source": [
    "# for the year 2002, load species data into a dataframe, select a subset of data using some criteria, and write the dataframe to a csv file.\n",
    "import pandas as pd\n",
    "import os as os\n",
    "\n",
    "print('directory', os.getcwd(), '\\n')\n",
    "# load the data into a dataframe\n",
    "surveys_df = pd.read_csv('data/surveys.csv')\n",
    "\n",
    "# select only data for the year 2002\n",
    "surveys2002 = surveys_df[surveys_df.year == 2002]\n",
    "\n",
    "# write new dataframe to a csv file\n",
    "surveys2002.to_csv('data/yearly_files/surveys2002.csv')"
   ]
  },
  {
   "cell_type": "code",
   "execution_count": null,
   "metadata": {},
   "outputs": [
    {
     "name": "stdout",
     "output_type": "stream",
     "text": [
      "data/yearly/surveys1977.csv\n",
      "data/yearly/surveys1978.csv\n",
      "data/yearly/surveys1979.csv\n",
      "data/yearly/surveys1980.csv\n",
      "data/yearly/surveys1981.csv\n",
      "data/yearly/surveys1982.csv\n",
      "data/yearly/surveys1983.csv\n",
      "data/yearly/surveys1984.csv\n",
      "data/yearly/surveys1985.csv\n",
      "data/yearly/surveys1986.csv\n",
      "data/yearly/surveys1987.csv\n",
      "data/yearly/surveys1988.csv\n",
      "data/yearly/surveys1989.csv\n",
      "data/yearly/surveys1990.csv\n",
      "data/yearly/surveys1991.csv\n",
      "data/yearly/surveys1992.csv\n",
      "data/yearly/surveys1993.csv\n",
      "data/yearly/surveys1994.csv\n",
      "data/yearly/surveys1995.csv\n",
      "data/yearly/surveys1996.csv\n",
      "data/yearly/surveys1997.csv\n",
      "data/yearly/surveys1998.csv\n",
      "data/yearly/surveys1999.csv\n",
      "data/yearly/surveys2000.csv\n",
      "data/yearly/surveys2001.csv\n",
      "data/yearly/surveys2002.csv\n"
     ]
    }
   ],
   "source": [
    "# instead of repeating the above cell for each unique year, need to iterate\n",
    "\n",
    "surveys_df['year'].unique() # unique and nunique are different\n",
    "\n",
    "for year in surveys_df['year'].unique():\n",
    "    filename='data/yearly/surveys' + str(year) + '.csv'\n",
    "    print(filename)"
   ]
  },
  {
   "cell_type": "code",
   "execution_count": null,
   "metadata": {},
   "outputs": [
    {
     "name": "stdout",
     "output_type": "stream",
     "text": [
      "data/yearly_files/surveys1977.csv\n",
      "data/yearly_files/surveys1978.csv\n",
      "data/yearly_files/surveys1979.csv\n",
      "data/yearly_files/surveys1980.csv\n",
      "data/yearly_files/surveys1981.csv\n",
      "data/yearly_files/surveys1982.csv\n",
      "data/yearly_files/surveys1983.csv\n",
      "data/yearly_files/surveys1984.csv\n",
      "data/yearly_files/surveys1985.csv\n",
      "data/yearly_files/surveys1986.csv\n",
      "data/yearly_files/surveys1987.csv\n",
      "data/yearly_files/surveys1988.csv\n",
      "data/yearly_files/surveys1989.csv\n",
      "data/yearly_files/surveys1990.csv\n",
      "data/yearly_files/surveys1991.csv\n",
      "data/yearly_files/surveys1992.csv\n",
      "data/yearly_files/surveys1993.csv\n",
      "data/yearly_files/surveys1994.csv\n",
      "data/yearly_files/surveys1995.csv\n",
      "data/yearly_files/surveys1996.csv\n",
      "data/yearly_files/surveys1997.csv\n",
      "data/yearly_files/surveys1998.csv\n",
      "data/yearly_files/surveys1999.csv\n",
      "data/yearly_files/surveys2000.csv\n",
      "data/yearly_files/surveys2001.csv\n",
      "data/yearly_files/surveys2002.csv\n"
     ]
    }
   ],
   "source": [
    "# now to write the yearly data to unique files\n",
    "for year in surveys_df['year'].unique():\n",
    "    # select data for the year\n",
    "    surveys_year = surveys_df[surveys_df.year == year]\n",
    "    \n",
    "    # write the new dataframe to a csv file\n",
    "    filename='data/yearly_files/surveys' + str(year) + '.csv'\n",
    "    print(filename)\n",
    "    surveys_year.to_csv(filename)"
   ]
  },
  {
   "cell_type": "markdown",
   "metadata": {},
   "source": [
    "### Writing Unique File Names\n",
    "\n",
    "The code above has created a unique filename for each year\n",
    "\n",
    "* first part is identifier text to distinguish file name (surveys)\n",
    "* we can concatenate this with the value of a variable in this case year by using the plus + sign and the variable we want to add to the file name: + str(year), need to convert year to a string\n",
    "* finally the '.csv'\n",
    "\n",
    "The variable (str(year)) is not surrounded by quotes.\n",
    "\n",
    "The code produces the string 'data/yearly_files/surveys2002.csv'"
   ]
  },
  {
   "cell_type": "code",
   "execution_count": null,
   "metadata": {},
   "outputs": [],
   "source": [
    "# shift enter to create a new cell, escape to select newly created cell, then y for python, or m for markdown\n",
    "\n",
    "# Challenge - Modifying Loops\n",
    "# 1. some of the surveys you saved are missing data (have NaN values) modify the loop so that the entries will null values are not included in the yearly files\n",
    "\n",
    "for year in surveys_df['year'].unique():\n",
    "     survey = surveys_df[surveys_df.year == year].dropna()\n",
    "     filename = 'data/yearly_files/surveys' + str(year) + '.csv'\n",
    "     survey.to_csv(filename)"
   ]
  },
  {
   "cell_type": "code",
   "execution_count": null,
   "metadata": {},
   "outputs": [
    {
     "name": "stdout",
     "output_type": "stream",
     "text": [
      "1977\n",
      "data/yearly_files/surveys1977.csv\n",
      "1982\n",
      "data/yearly_files/surveys1982.csv\n",
      "1987\n",
      "data/yearly_files/surveys1987.csv\n",
      "1992\n",
      "data/yearly_files/surveys1992.csv\n",
      "1997\n",
      "data/yearly_files/surveys1997.csv\n",
      "2002\n",
      "data/yearly_files/surveys2002.csv\n"
     ]
    }
   ],
   "source": [
    "# Challenge - Modifying Loops\n",
    "# 2. modify your loop in order to generate a data file for only every 5th year starting from 1977\n",
    "for year in surveys_df['year'].unique()[::5]: # use [::5] to iterate over every 5th element\n",
    "    print(year)\n",
    "    survey = surveys_df[surveys_df.year == year].dropna()\n",
    "    filename = 'data/yearly_files/surveys' + str(year) + '.csv'\n",
    "    print(filename)\n",
    "    survey.to_csv(filename)"
   ]
  },
  {
   "cell_type": "code",
   "execution_count": null,
   "metadata": {},
   "outputs": [
    {
     "ename": "FileExistsError",
     "evalue": "[Errno 17] File exists: 'data/ind_species_files/'",
     "output_type": "error",
     "traceback": [
      "\u001b[0;31m---------------------------------------------------------------------------\u001b[0m",
      "\u001b[0;31mFileExistsError\u001b[0m                           Traceback (most recent call last)",
      "Cell \u001b[0;32mIn[14], line 9\u001b[0m\n\u001b[1;32m      1\u001b[0m \u001b[38;5;66;03m# Challenge - modifying loops\u001b[39;00m\n\u001b[1;32m      2\u001b[0m \u001b[38;5;66;03m# 3. split the dataframe by unique species\u001b[39;00m\n\u001b[1;32m      3\u001b[0m \u001b[38;5;66;03m# print(surveys_df.head(5))\u001b[39;00m\n\u001b[0;32m   (...)\u001b[0m\n\u001b[1;32m      7\u001b[0m \n\u001b[1;32m      8\u001b[0m \u001b[38;5;66;03m# make new directory\u001b[39;00m\n\u001b[0;32m----> 9\u001b[0m \u001b[43mos\u001b[49m\u001b[38;5;241;43m.\u001b[39;49m\u001b[43mmkdir\u001b[49m\u001b[43m(\u001b[49m\u001b[38;5;124;43m'\u001b[39;49m\u001b[38;5;124;43mdata/ind_species_files/\u001b[39;49m\u001b[38;5;124;43m'\u001b[39;49m\u001b[43m)\u001b[49m\n\u001b[1;32m     11\u001b[0m \u001b[38;5;28;01mfor\u001b[39;00m organism \u001b[38;5;129;01min\u001b[39;00m surveys_df[\u001b[38;5;124m'\u001b[39m\u001b[38;5;124mspecies_id\u001b[39m\u001b[38;5;124m'\u001b[39m]\u001b[38;5;241m.\u001b[39munique():\n\u001b[1;32m     12\u001b[0m     ind_species \u001b[38;5;241m=\u001b[39m surveys_df[surveys_df\u001b[38;5;241m.\u001b[39mspecies_id \u001b[38;5;241m==\u001b[39m organism]\n",
      "\u001b[0;31mFileExistsError\u001b[0m: [Errno 17] File exists: 'data/ind_species_files/'"
     ]
    }
   ],
   "source": [
    "# Challenge - modifying loops\n",
    "# 3. split the dataframe by unique species\n",
    "# print(surveys_df.head(5))\n",
    "\n",
    "# species = pd.read_csv('data/species.csv')\n",
    "# print(species.head(5))\n",
    "\n",
    "# make new directory\n",
    "os.mkdir('data/ind_species_files/')\n",
    "\n",
    "for organism in surveys_df['species_id'].unique():\n",
    "    ind_species = surveys_df[surveys_df.species_id == organism]\n",
    "    filename = 'data/ind_species_files/' + str(organism) + '.csv'\n",
    "    print(filename)\n",
    "    ind_species.to_csv(filename)"
   ]
  },
  {
   "cell_type": "markdown",
   "metadata": {},
   "source": [
    "### Building reusable and modular code with functions\n",
    "\n",
    "use functions to reuse code. \n",
    "* variables declared in functions are function-scoped (only exist in functions)\n"
   ]
  },
  {
   "cell_type": "code",
   "execution_count": null,
   "metadata": {},
   "outputs": [
    {
     "name": "stdout",
     "output_type": "stream",
     "text": [
      "the functions arguments are: 2 5\n",
      "10\n"
     ]
    }
   ],
   "source": [
    "# declare functions the following way:\n",
    "def this_is_the_function_name(input_argument1, input_argument2):\n",
    "    #the body of the function is indented\n",
    "    #this function prints the two arguments to screen\n",
    "    print('the functions arguments are:', input_argument1, input_argument2)\n",
    "    return input_argument1 * input_argument2\n",
    "\n",
    "# function declaration starts with word 'def' followed by function name and any arguments that the function takes\n",
    "product_of_inputs = this_is_the_function_name(2,5)\n",
    "print(product_of_inputs)"
   ]
  },
  {
   "cell_type": "code",
   "execution_count": null,
   "metadata": {},
   "outputs": [
    {
     "name": "stdout",
     "output_type": "stream",
     "text": [
      "the functions arguments are: 100 7\n"
     ]
    },
    {
     "data": {
      "text/plain": [
       "700"
      ]
     },
     "execution_count": 19,
     "metadata": {},
     "output_type": "execute_result"
    }
   ],
   "source": [
    "# Challenge - Functions\n",
    "\n",
    "# 1. change the values of the arguments provided to the function nad check its output\n",
    "this_is_the_function_name(100,7)"
   ]
  },
  {
   "cell_type": "code",
   "execution_count": null,
   "metadata": {},
   "outputs": [
    {
     "ename": "TypeError",
     "evalue": "this_is_the_function_name() missing 2 required positional arguments: 'input_argument1' and 'input_argument2'",
     "output_type": "error",
     "traceback": [
      "\u001b[0;31m---------------------------------------------------------------------------\u001b[0m",
      "\u001b[0;31mTypeError\u001b[0m                                 Traceback (most recent call last)",
      "Cell \u001b[0;32mIn[23], line 4\u001b[0m\n\u001b[1;32m      1\u001b[0m \u001b[38;5;66;03m# Challenge - Functions\u001b[39;00m\n\u001b[1;32m      2\u001b[0m \u001b[38;5;66;03m# 2. what happens when you put in more or less arguments in the function?\u001b[39;00m\n\u001b[1;32m      3\u001b[0m \u001b[38;5;66;03m# this_is_the_function_name(100,8,9) # error tells you it only takes 2 arguments\u001b[39;00m\n\u001b[0;32m----> 4\u001b[0m \u001b[43mthis_is_the_function_name\u001b[49m\u001b[43m(\u001b[49m\u001b[43m)\u001b[49m \u001b[38;5;66;03m# error says missing 2 arguments\u001b[39;00m\n",
      "\u001b[0;31mTypeError\u001b[0m: this_is_the_function_name() missing 2 required positional arguments: 'input_argument1' and 'input_argument2'"
     ]
    }
   ],
   "source": [
    "# Challenge - Functions\n",
    "# 2. what happens when you put in more or less arguments in the function?\n",
    "# this_is_the_function_name(100,8,9) # error tells you it only takes 2 arguments\n",
    "this_is_the_function_name() # error says missing 2 arguments\n"
   ]
  },
  {
   "cell_type": "code",
   "execution_count": null,
   "metadata": {},
   "outputs": [
    {
     "ename": "NameError",
     "evalue": "name 'new_var' is not defined",
     "output_type": "error",
     "traceback": [
      "\u001b[0;31m---------------------------------------------------------------------------\u001b[0m",
      "\u001b[0;31mNameError\u001b[0m                                 Traceback (most recent call last)",
      "Cell \u001b[0;32mIn[25], line 11\u001b[0m\n\u001b[1;32m      8\u001b[0m     \u001b[38;5;28mprint\u001b[39m(\u001b[38;5;124m'\u001b[39m\u001b[38;5;124mthe functions arguments are:\u001b[39m\u001b[38;5;124m'\u001b[39m, input_argument1, input_argument2)\n\u001b[1;32m      9\u001b[0m     \u001b[38;5;28;01mreturn\u001b[39;00m input_argument1 \u001b[38;5;241m*\u001b[39m input_argument2\n\u001b[0;32m---> 11\u001b[0m \u001b[38;5;28mprint\u001b[39m(\u001b[43mnew_var\u001b[49m) \u001b[38;5;66;03m# cannot print new_var because it is outside of function scope\u001b[39;00m\n",
      "\u001b[0;31mNameError\u001b[0m: name 'new_var' is not defined"
     ]
    }
   ],
   "source": [
    "# Challenge - Functions\n",
    "# 3. declare a variable inside the function and test to see where it exists\n",
    "def this_is_the_function_name(input_argument1, input_argument2):\n",
    "    new_var = 3\n",
    "    \n",
    "    #the body of the function is indented\n",
    "    #this function prints the two arguments to screen\n",
    "    print('the functions arguments are:', input_argument1, input_argument2)\n",
    "    return input_argument1 * input_argument2\n",
    "\n",
    "print(new_var) # cannot print new_var because it is outside of function scope"
   ]
  },
  {
   "cell_type": "code",
   "execution_count": null,
   "metadata": {},
   "outputs": [
    {
     "name": "stdout",
     "output_type": "stream",
     "text": [
      "5\n"
     ]
    }
   ],
   "source": [
    "# challenge - functions\n",
    "# 4. explore what happens when a variable both inside and outside the function have the same name?\n",
    "new_var = 5\n",
    "def this_is_the_function_name(input_argument1, input_argument2):\n",
    "    new_var = 3\n",
    "    \n",
    "    #the body of the function is indented\n",
    "    #this function prints the two arguments to screen\n",
    "    print('the functions arguments are:', input_argument1, input_argument2)\n",
    "    return input_argument1 * input_argument2\n",
    "\n",
    "print(new_var) # prints the global new_var value and not the function scoped new_var"
   ]
  },
  {
   "cell_type": "code",
   "execution_count": null,
   "metadata": {},
   "outputs": [],
   "source": [
    "# turn code for saving yearly data files into a function\n",
    "\n",
    "def one_year_csv_writer(this_year, all_data):\n",
    "    \n",
    "    \"\"\"\n",
    "        Writes a csv file for data from a given year\n",
    "\n",
    "        this_year -- year for which data is extracted\\n\n",
    "        all_data -- dataframe with multi-year data\n",
    "    \"\"\"\n",
    "    # select data for the year\n",
    "    surveys_year = all_data[all_data.year == this_year]\n",
    "\n",
    "    # write the new dataframe to a csv file\n",
    "    filename = 'data/yearly_files/function_surveys' + str(this_year) + '.csv'\n",
    "    surveys_year.to_csv(filename)"
   ]
  },
  {
   "cell_type": "code",
   "execution_count": null,
   "metadata": {},
   "outputs": [
    {
     "name": "stdout",
     "output_type": "stream",
     "text": [
      "Help on function one_year_csv_writer in module __main__:\n",
      "\n",
      "one_year_csv_writer(this_year, all_data)\n",
      "    Writes a csv file for data from a given year\n",
      "    \n",
      "    this_year -- year for which data is extracted\n",
      "    \n",
      "    all_data -- dataframe with multi-year data\n",
      "\n"
     ]
    },
    {
     "name": "stdout",
     "output_type": "stream",
     "text": [
      "\u001b[0;31mSignature:\u001b[0m \u001b[0mone_year_csv_writer\u001b[0m\u001b[0;34m(\u001b[0m\u001b[0mthis_year\u001b[0m\u001b[0;34m,\u001b[0m \u001b[0mall_data\u001b[0m\u001b[0;34m)\u001b[0m\u001b[0;34m\u001b[0m\u001b[0;34m\u001b[0m\u001b[0m\n",
      "\u001b[0;31mDocstring:\u001b[0m\n",
      "Writes a csv file for data from a given year\n",
      "\n",
      "this_year -- year for which data is extracted\n",
      "\n",
      "all_data -- dataframe with multi-year data\n",
      "\u001b[0;31mFile:\u001b[0m      /tmp/ipykernel_4182525/1276746962.py\n",
      "\u001b[0;31mType:\u001b[0m      function"
     ]
    }
   ],
   "source": [
    "# The triple quotes is a docstring, used to tell what the function does, if you use help() function on your function it will return the docstring\n",
    "help(one_year_csv_writer)\n",
    "\n",
    "# so does adding a question mark (?) after the function (without parentheses)\n",
    "one_year_csv_writer?"
   ]
  },
  {
   "cell_type": "code",
   "execution_count": null,
   "metadata": {},
   "outputs": [],
   "source": [
    "one_year_csv_writer(2002, surveys_df) # differentiates between other csv files because it has function_surveys infront of it"
   ]
  },
  {
   "cell_type": "code",
   "execution_count": null,
   "metadata": {},
   "outputs": [],
   "source": [
    "# above function still requires us to input individual years, need to implement for loop within the function\n",
    "def yearly_data_csv_writer(start_year, end_year, all_data):\n",
    "    \"\"\"\n",
    "    Writes separate CSV files for each year of data.\n",
    "\n",
    "    start_year (int) -- first year of data we want\n",
    "    end_year (int) -- the last year of data we want\n",
    "    all_data (df) -- dataframe with multi-year data\n",
    "    \"\"\"\n",
    "    # 'end_year\" is the last year of data we want to pull, so we loop to end_year+1\n",
    "\n",
    "    for year in range(start_year, end_year+1):\n",
    "        one_year_csv_writer(year, all_data)\n"
   ]
  },
  {
   "cell_type": "code",
   "execution_count": null,
   "metadata": {},
   "outputs": [],
   "source": [
    "# now creating yearly files with new function\n",
    "yearly_data_csv_writer(1977, 2002, surveys_df)"
   ]
  },
  {
   "cell_type": "code",
   "execution_count": null,
   "metadata": {},
   "outputs": [
    {
     "name": "stdout",
     "output_type": "stream",
     "text": [
      "Help on function new_csv_writer in module __main__:\n",
      "\n",
      "new_csv_writer(start_year, end_year, all_data, dir, root)\n",
      "    Writes separate CSV files for each year of data.\n",
      "    \n",
      "    start_year (int) -- first year of data we want\n",
      "    end_year (int) -- the last year of data we want\n",
      "    all_data (df) -- dataframe with multi-year data\n",
      "    dir (str) -- path to directory\n",
      "    root (str) -- root of filename\n",
      "\n"
     ]
    },
    {
     "name": "stdout",
     "output_type": "stream",
     "text": [
      "\u001b[0;31mSignature:\u001b[0m \u001b[0mnew_csv_writer\u001b[0m\u001b[0;34m(\u001b[0m\u001b[0mstart_year\u001b[0m\u001b[0;34m,\u001b[0m \u001b[0mend_year\u001b[0m\u001b[0;34m,\u001b[0m \u001b[0mall_data\u001b[0m\u001b[0;34m,\u001b[0m \u001b[0mdir\u001b[0m\u001b[0;34m,\u001b[0m \u001b[0mroot\u001b[0m\u001b[0;34m)\u001b[0m\u001b[0;34m\u001b[0m\u001b[0;34m\u001b[0m\u001b[0m\n",
      "\u001b[0;31mDocstring:\u001b[0m\n",
      "Writes separate CSV files for each year of data.\n",
      "\n",
      "start_year (int) -- first year of data we want\n",
      "end_year (int) -- the last year of data we want\n",
      "all_data (df) -- dataframe with multi-year data\n",
      "dir (str) -- path to directory\n",
      "root (str) -- root of filename\n",
      "\u001b[0;31mFile:\u001b[0m      /tmp/ipykernel_4182525/1696714685.py\n",
      "\u001b[0;31mType:\u001b[0m      function"
     ]
    }
   ],
   "source": [
    "# Challenge - more functions\n",
    "# 1. add two arguments to the functions we wrote that take the path of the directory where the files will be written and teh root of the file name\n",
    "## create a new set of files with a different name in a different directory\n",
    "os.mkdir('data/new_dir/')\n",
    "def year_csv(this_year, all_data, dir, root):\n",
    "    \"\"\"\n",
    "    Writes a csv file for data from a given year\n",
    "\n",
    "    this_year (int) -- year for which data is extracted\\n\n",
    "    all_data (int) -- dataframe with multi-year data\n",
    "    dir (str) -- path to directory\n",
    "    root (str) -- root of filename\n",
    "    \"\"\"\n",
    "    # select data for the year\n",
    "    surveys_year = all_data[all_data.year == this_year]\n",
    "\n",
    "    # write the new dataframe to a csv file\n",
    "    filename = 'data/' + str(dir) + '/' + str(root) + str(this_year) + '.csv'\n",
    "    surveys_year.to_csv(filename)\n",
    "\n",
    "\n",
    "def new_csv_writer(start_year, end_year, all_data, dir, root):\n",
    "    \"\"\"\n",
    "    Writes separate CSV files for each year of data.\n",
    "\n",
    "    start_year (int) -- first year of data we want\n",
    "    end_year (int) -- the last year of data we want\n",
    "    all_data (df) -- dataframe with multi-year data\n",
    "    dir (str) -- path to directory\n",
    "    root (str) -- root of filename\n",
    "    \"\"\"\n",
    "    # 'end_year\" is the last year of data we want to pull, so we loop to end_year+1\n",
    "\n",
    "    for year in range(start_year, end_year+1):\n",
    "        year_csv(year, all_data, dir, root)\n",
    "\n",
    "new_csv_writer?\n",
    "help(new_csv_writer)\n",
    "\n",
    "new_csv_writer(1977, 2002, surveys_df, 'new_dir', 'new_year')\n"
   ]
  },
  {
   "cell_type": "code",
   "execution_count": null,
   "metadata": {},
   "outputs": [],
   "source": [
    "# Challenge more functions\n",
    "# 2. how to use the yearly_data_csv_write function to create a csv file for only one year\n",
    "yearly_data_csv_writer(1977, 1977, surveys_df) # put start year as the end year as well"
   ]
  },
  {
   "cell_type": "code",
   "execution_count": 13,
   "metadata": {},
   "outputs": [
    {
     "name": "stdout",
     "output_type": "stream",
     "text": [
      "['data/yearly_files/function_surveys1977.csv', 'data/yearly_files/function_surveys1978.csv', 'data/yearly_files/function_surveys1979.csv', 'data/yearly_files/function_surveys1980.csv', 'data/yearly_files/function_surveys1981.csv', 'data/yearly_files/function_surveys1982.csv', 'data/yearly_files/function_surveys1983.csv', 'data/yearly_files/function_surveys1984.csv', 'data/yearly_files/function_surveys1985.csv', 'data/yearly_files/function_surveys1986.csv', 'data/yearly_files/function_surveys1987.csv', 'data/yearly_files/function_surveys1988.csv', 'data/yearly_files/function_surveys1989.csv', 'data/yearly_files/function_surveys1990.csv', 'data/yearly_files/function_surveys1991.csv', 'data/yearly_files/function_surveys1992.csv', 'data/yearly_files/function_surveys1993.csv', 'data/yearly_files/function_surveys1994.csv', 'data/yearly_files/function_surveys1995.csv', 'data/yearly_files/function_surveys1996.csv', 'data/yearly_files/function_surveys1997.csv', 'data/yearly_files/function_surveys1998.csv', 'data/yearly_files/function_surveys1999.csv', 'data/yearly_files/function_surveys2000.csv', 'data/yearly_files/function_surveys2001.csv']\n"
     ]
    }
   ],
   "source": [
    "# challenge more functions\n",
    "# 3. make function return a list of the files \n",
    "def year_element(this_year, all_data):\n",
    "    \n",
    "    \"\"\"\n",
    "        Writes a csv file for data from a given year\n",
    "\n",
    "        this_year -- year for which data is extracted\\n\n",
    "        all_data -- dataframe with multi-year data\n",
    "    \"\"\"\n",
    "    # select data for the year\n",
    "    surveys_year = all_data[all_data.year == this_year]\n",
    "\n",
    "    # write the new dataframe to a csv file\n",
    "    filename = 'data/yearly_files/function_surveys' + str(this_year) + '.csv'\n",
    "    surveys_year.to_csv(filename)\n",
    "    return filename\n",
    "    # surveys_list.append(filename)\n",
    "\n",
    "def year_list(start_year, end_year, all_data):\n",
    "    \"\"\"\n",
    "    Writes separate CSV files for each year of data.\n",
    "\n",
    "    start_year (int) -- first year of data we want\n",
    "    end_year (int) -- the last year of data we want\n",
    "    all_data (df) -- dataframe with multi-year data\n",
    "    dir (str) -- path to directory\n",
    "    root (str) -- root of filename\n",
    "    \"\"\"\n",
    "    # 'end_year\" is the last year of data we want to pull, so we loop to end_year+1\n",
    "    surveys_list = []\n",
    "    for year in range(start_year, end_year+1):\n",
    "        surveys_list.append(year_element(year, all_data))\n",
    "    \n",
    "    return surveys_list\n",
    "\n",
    "# surveys_list = [] # could have global list variable or could put it in the function too\n",
    "\n",
    "\n",
    "print(year_list(1977, 2001, surveys_df))"
   ]
  },
  {
   "cell_type": "code",
   "execution_count": null,
   "metadata": {},
   "outputs": [
    {
     "name": "stdout",
     "output_type": "stream",
     "text": [
      "[0, 1, 2, 3, 'data/yearly_files/function_surveys1977.csv', 'data/yearly_files/function_surveys1978.csv', 'data/yearly_files/function_surveys1979.csv']\n",
      "[0, 1, 2, 3, 'data/yearly_files/function_surveys1977.csv', 'data/yearly_files/function_surveys1978.csv', 'data/yearly_files/function_surveys1979.csv']\n"
     ]
    }
   ],
   "source": [
    "# challenge - more functions\n",
    "# 4. explore scope in functions\n",
    "\n",
    "surveys_list = [0,1,2,3]\n",
    "\n",
    "def year_list(start_year, end_year, all_data):\n",
    "    \"\"\"\n",
    "    Writes separate CSV files for each year of data.\n",
    "\n",
    "    start_year (int) -- first year of data we want\n",
    "    end_year (int) -- the last year of data we want\n",
    "    all_data (df) -- dataframe with multi-year data\n",
    "    dir (str) -- path to directory\n",
    "    root (str) -- root of filename\n",
    "    \"\"\"\n",
    "    # 'end_year\" is the last year of data we want to pull, so we loop to end_year+1\n",
    "    # surveys_list = []\n",
    "    for year in range(start_year, end_year+1):\n",
    "        surveys_list.append(year_element(year, all_data))\n",
    "    \n",
    "    return surveys_list\n",
    "\n",
    "print(year_list(1977,1979, surveys_df))\n",
    "print(surveys_list)\n",
    "\n",
    "# surveys list is a global variable, but when it is redeclared in the function only that surveys_list is modified\n",
    "# if surveys list is not declared in the function then the global variable will be modified by the function"
   ]
  },
  {
   "cell_type": "code",
   "execution_count": 15,
   "metadata": {},
   "outputs": [
    {
     "name": "stdout",
     "output_type": "stream",
     "text": [
      "Both optional arguments:\t 1988 1993\n",
      "1977 \t\t\t 2002\n"
     ]
    }
   ],
   "source": [
    "# function default values\n",
    "def yearly_data_arg_test(all_data, start_year=1977, end_year=2002):\n",
    "    \"\"\"\n",
    "    Modified from yearly_data_csv_writer to test default argument values\n",
    "    start_year (int) -- the first year of data we want (default 1977)\n",
    "    end_year (int) -- the last year of data we want (default 2002)\n",
    "    all_data (dataframe) -- dataframe with multi-year data\n",
    "    \"\"\"\n",
    "\n",
    "    return start_year, end_year\n",
    "\n",
    "yearly_data_arg_test(surveys_df)\n",
    "\n",
    "start, end = yearly_data_arg_test(surveys_df, 1988, 1993)\n",
    "print('Both optional arguments:\\t', start, end)\n",
    "# another way to declare two variables\n",
    "start, end = yearly_data_arg_test(surveys_df)\n",
    "print(start, '\\t\\t\\t',end) # \\t is tab"
   ]
  },
  {
   "cell_type": "code",
   "execution_count": 16,
   "metadata": {},
   "outputs": [],
   "source": [
    "# what if our dataset doesn't start in 1977 and end in 2002? We can modify the function so that it looks for the start and end years in the dataset if those dates are not provided\n",
    "\n",
    "def yearly_data_arg_test(all_data, start_year=None, end_year=None):\n",
    "    \"\"\"\n",
    "    Modified from yearly_data_csv_writer to test default argument values!\n",
    "    \n",
    "    all_data -- DataFrame with multi-year data\n",
    "    start_year -- the first year of data we want, check all_data! (default None)\n",
    "    end_year -- the last year of data we want; Check all_data! (default None)\n",
    "    \"\"\"\n",
    "\n",
    "    if start_year is None:\n",
    "        start_year = min(all_data.year) # set start_year to min of all_data.year\n",
    "    if end_year is None:\n",
    "        end_year = max(all_data.year) # set end_year to max of all_data.year\n",
    "    \n",
    "    return start_year, end_year\n"
   ]
  },
  {
   "cell_type": "code",
   "execution_count": 18,
   "metadata": {},
   "outputs": [
    {
     "name": "stdout",
     "output_type": "stream",
     "text": [
      "<class 'NoneType'>\n"
     ]
    }
   ],
   "source": [
    "# Challenges - Variables\n",
    "## 1. what type of object corresponds to a variable declared as None\n",
    "\n",
    "variable = None\n",
    "print(type(variable)) # corresponds to a NoneType"
   ]
  },
  {
   "cell_type": "code",
   "execution_count": 23,
   "metadata": {},
   "outputs": [
    {
     "ename": "TypeError",
     "evalue": "yearly_data_arg_no_default() missing 2 required positional arguments: 'start_year' and 'end_year'",
     "output_type": "error",
     "traceback": [
      "\u001b[0;31m---------------------------------------------------------------------------\u001b[0m",
      "\u001b[0;31mTypeError\u001b[0m                                 Traceback (most recent call last)",
      "Cell \u001b[0;32mIn [23], line 18\u001b[0m\n\u001b[1;32m     15\u001b[0m     \u001b[38;5;28;01mfor\u001b[39;00m year \u001b[38;5;129;01min\u001b[39;00m \u001b[38;5;28mrange\u001b[39m(start_year, end_year\u001b[38;5;241m+\u001b[39m\u001b[38;5;241m1\u001b[39m):\n\u001b[1;32m     16\u001b[0m         one_year_csv_writer(year, all_data)\n\u001b[0;32m---> 18\u001b[0m no_default \u001b[38;5;241m=\u001b[39m \u001b[43myearly_data_arg_no_default\u001b[49m\u001b[43m(\u001b[49m\u001b[43msurveys_df\u001b[49m\u001b[43m)\u001b[49m\n\u001b[1;32m     19\u001b[0m \u001b[38;5;28mprint\u001b[39m(no_default)\n",
      "\u001b[0;31mTypeError\u001b[0m: yearly_data_arg_no_default() missing 2 required positional arguments: 'start_year' and 'end_year'"
     ]
    }
   ],
   "source": [
    "# Challenges - Variables\n",
    "# 2. Compare the behavior of the function yearly_data_arg_test when the arguments have None as a default and when they do not have default values.\n",
    "\n",
    "def yearly_data_arg_none(all_data, start_year=None, end_year=None):\n",
    "        # \"end_year\" is the last year of data we want to pull, so we loop to end_year+1\n",
    "    for year in range(start_year, end_year+1):\n",
    "        one_year_csv_writer(year, all_data)\n",
    "\n",
    "# none_func = yearly_data_arg_none(surveys_df)\n",
    "# print(none_func) # unsupported operand types for NoneType and int\n",
    "\n",
    "\n",
    "def yearly_data_arg_no_default(all_data, start_year, end_year):\n",
    "        # \"end_year\" is the last year of data we want to pull, so we loop to end_year+1\n",
    "    for year in range(start_year, end_year+1):\n",
    "        one_year_csv_writer(year, all_data)\n",
    "\n",
    "no_default = yearly_data_arg_no_default(surveys_df)\n",
    "print(no_default) # missing 2 required positional arguments"
   ]
  },
  {
   "cell_type": "code",
   "execution_count": 31,
   "metadata": {},
   "outputs": [
    {
     "name": "stdout",
     "output_type": "stream",
     "text": [
      "(1997, 1977)\n",
      "(1977, 1997)\n",
      "(1977, 1997)\n"
     ]
    }
   ],
   "source": [
    "# Challenge - Variables\n",
    "## 3. what happens if you only include a value for start_year in the function call?\n",
    "\n",
    "def yearly_data_arg_start(all_data, start_year=None, end_year=None):\n",
    "        # \"end_year\" is the last year of data we want to pull, so we loop to end_year+1\n",
    "\n",
    "    if start_year is None:\n",
    "        start_year=min(surveys_df.year)\n",
    "    \n",
    "    if end_year is None:\n",
    "        end_year=min(surveys_df.year)\n",
    "\n",
    "    return start_year, end_year\n",
    "\n",
    "start_func = yearly_data_arg_start(surveys_df, 1997)\n",
    "print(start_func)\n",
    "\n",
    "def yearly_data_arg_end(all_data, start_year=None, end_year=None):\n",
    "        # \"end_year\" is the last year of data we want to pull, so we loop to end_year+1\n",
    "\n",
    "    if start_year is None:\n",
    "        start_year=min(surveys_df.year)\n",
    "    \n",
    "    if end_year is None:\n",
    "        end_year=min(surveys_df.year)\n",
    "\n",
    "    return start_year, end_year\n",
    "\n",
    "end_func = yearly_data_arg_end(surveys_df, None,1997) # still need a value in the start_year otherwise the function will not run\n",
    "print(end_func)\n",
    "\n",
    "end_func = yearly_data_arg_end(surveys_df, end_year=1997)\n",
    "print(end_func) # unless you specify end_year, then you don't need to specify the start_year"
   ]
  },
  {
   "cell_type": "markdown",
   "metadata": {},
   "source": [
    "### If Statements\n",
    "\n",
    "The body of the test function now has two conditionals (if statements) that check the values of start_year and end_year. If statements execute a segment of code when some condition is met."
   ]
  },
  {
   "cell_type": "code",
   "execution_count": 32,
   "metadata": {},
   "outputs": [
    {
     "name": "stdout",
     "output_type": "stream",
     "text": [
      "a is a positive number\n"
     ]
    }
   ],
   "source": [
    "a = 5\n",
    "\n",
    "if a<0: # meets first condition?\n",
    "    # if a is less than zero\n",
    "    print('a is a negative number')\n",
    "elif a>0: # did not meet first condition. meets second condition?\n",
    "    # if a isn't less than zero and is more than zero\n",
    "    print('a is a positive number')\n",
    "else: # met neither condition\n",
    "    # if a isn't less than zero and isn't more than zero\n",
    "    print('a must be zero!')"
   ]
  },
  {
   "cell_type": "code",
   "execution_count": 34,
   "metadata": {},
   "outputs": [
    {
     "data": {
      "text/plain": [
       "(1980, 1990)"
      ]
     },
     "execution_count": 34,
     "metadata": {},
     "output_type": "execute_result"
    }
   ],
   "source": [
    "# Challenge - modifying functions\n",
    "## 1. rewrite one_year_csv_writer and yearly_data_csv_writer functions to have keyword arguments with default values\n",
    "def one_year_csv_writer(this_year=2002, all_data=surveys_df):\n",
    "    \n",
    "    \"\"\"\n",
    "        Writes a csv file for data from a given year\n",
    "\n",
    "        this_year -- year for which data is extracted\\n\n",
    "        all_data -- dataframe with multi-year data\n",
    "    \"\"\"\n",
    "    # select data for the year\n",
    "    surveys_year = all_data[all_data.year == this_year]\n",
    "\n",
    "    # write the new dataframe to a csv file\n",
    "    filename = 'data/yearly_files/function_surveys' + str(this_year) + '.csv'\n",
    "    surveys_year.to_csv(filename)\n",
    "    \n",
    "one_year_csv_writer_default(all_data=surveys_df, this_year=2002)\n",
    "\n",
    "def yearly_data_csv_writer(start_year, end_year, all_data):\n",
    "    \"\"\"\n",
    "    Writes separate CSV files for each year of data.\n",
    "\n",
    "    start_year (int) -- first year of data we want\n",
    "    end_year (int) -- the last year of data we want\n",
    "    all_data (df) -- dataframe with multi-year data\n",
    "    \"\"\"\n",
    "    # 'end_year\" is the last year of data we want to pull, so we loop to end_year+1\n",
    "\n",
    "    for year in range(start_year, end_year+1):\n",
    "        one_year_csv_writer(year, all_data)"
   ]
  },
  {
   "cell_type": "code",
   "execution_count": 20,
   "metadata": {},
   "outputs": [],
   "source": [
    "# Challenge - modifying functions\n",
    "## 2. modify the functions so that they don't create yearly files if there is no data for a given year and dispaly an alert t othe user.\n",
    "\n",
    "def one_year_csv_writer(this_year, all_data, folder_to_save='./', root_name='survey'):\n",
    "    \n",
    "    \"\"\"\n",
    "        Writes a csv file for data from a given year\n",
    "\n",
    "        this_year: int\\n\n",
    "            year for which data is extracted\\n\n",
    "        all_data: pd.DataFrame\\n\n",
    "            dataframe with multi-year data\\n\n",
    "        folder_to_save: str\\n\n",
    "            folder to save the data files\n",
    "        root_name: str\\n\n",
    "            root of the filenames to save the data\\n\n",
    "    \"\"\"\n",
    "    # select data for the year\n",
    "    # if year does not have data\n",
    "    surveys_year = all_data[all_data.year == this_year]\n",
    "    if len(surveys_year) == 0:\n",
    "        print('data contains NaN values' + this_year + 'not saved')\n",
    "    else:\n",
    "        # write the new dataframe to a csv file\n",
    "        filename = os.path.join(folder_to_save, ''.join([root_name, str(this_year), '.csv']))\n",
    "        surveys_year.to_csv(filename)\n",
    "\n",
    "one_year_csv_writer(all_data=surveys_df, this_year=2002)\n"
   ]
  },
  {
   "cell_type": "code",
   "execution_count": 84,
   "metadata": {},
   "outputs": [
    {
     "name": "stdout",
     "output_type": "stream",
     "text": [
      "/home/meelyn/Documents/cloud_development/sw-python-ecology-lesson\n",
      "data/crumpets/crabapple2002.csv\n"
     ]
    },
    {
     "data": {
      "text/plain": [
       "'data/crumpets/crabapple2002.csv'"
      ]
     },
     "execution_count": 84,
     "metadata": {},
     "output_type": "execute_result"
    }
   ],
   "source": [
    "# challenge - modifying functions\n",
    "## 3. the code below checks to see whether a directory exists and creates one if it doesn't. \n",
    "## add some code to your function that writes out the csv files, to check for a directory to write to\n",
    "\n",
    "# if 'dir_name_here' in os.listdir('.'):\n",
    "#     print('processed directory exists')\n",
    "# else:\n",
    "#     os.mkdir('dir_name_here')\n",
    "# print('Processed directory created')\n",
    "print(os.getcwd())\n",
    "def csv_writer_dir_check(all_data, this_year, folder_to_save='data/', root_name='crabapple'):\n",
    "    \"\"\"\n",
    "        Writes a csv file for data from a given year\n",
    "\n",
    "        this_year: int\\n\n",
    "            year for which data is extracted\\n\n",
    "        all_data: pd.DataFrame\\n\n",
    "            dataframe with multi-year data\\n\n",
    "        folder_to_save: str\\n\n",
    "            folder to save the data files\n",
    "        root_name: str\\n\n",
    "            root of the filenames to save the data\\n\n",
    "    \"\"\"\n",
    "    # select data for the year\n",
    "    # if year does not have data, do not save\n",
    "    surveys_year = all_data[all_data.year == this_year]\n",
    "    if len(surveys_year) == 0:\n",
    "        print('data contains NaN values', this_year, 'not saved')   \n",
    "    else:\n",
    "        # print(os.listdir('data/'), '\\n')\n",
    "        # print('folder to save', folder_to_save, '\\n')\n",
    "        if folder_to_save in os.listdir('data/'):\n",
    "            filename = os.path.join('data/', folder_to_save, ''.join([root_name, str(this_year), '.csv']))\n",
    "            print(filename)\n",
    "            surveys_year.to_csv(filename)\n",
    "            return filename\n",
    "\n",
    "        else:\n",
    "            os.mkdir('data/' + folder_to_save)\n",
    "            print('processed directory created')\n",
    "\n",
    "            # write the new dataframe to a csv file\n",
    "            filename = os.path.join('data/', folder_to_save, ''.join([root_name, str(this_year), '.csv']))\n",
    "            print(filename)\n",
    "            surveys_year.to_csv(filename)\n",
    "            return filename\n",
    "\n",
    "csv_writer_dir_check(surveys_df, 2002, 'crumpets')\n"
   ]
  },
  {
   "cell_type": "code",
   "execution_count": 85,
   "metadata": {},
   "outputs": [
    {
     "name": "stdout",
     "output_type": "stream",
     "text": [
      "/home/meelyn/Documents/cloud_development/sw-python-ecology-lesson\n",
      "[1977 1978 1979 1980 1981 1982 1983 1984 1985 1986 1987 1988 1989 1990\n",
      " 1991 1992 1993 1994 1995 1996 1997 1998 1999 2000 2001 2002]\n",
      "1977\n",
      "data/cranky/jam1977.csv\n",
      "1978\n",
      "data/cranky/jam1978.csv\n",
      "1979\n",
      "data/cranky/jam1979.csv\n",
      "1980\n",
      "data/cranky/jam1980.csv\n",
      "1981\n",
      "data/cranky/jam1981.csv\n",
      "1982\n",
      "data/cranky/jam1982.csv\n",
      "1983\n",
      "data/cranky/jam1983.csv\n",
      "1984\n",
      "data/cranky/jam1984.csv\n",
      "1985\n",
      "data/cranky/jam1985.csv\n",
      "1986\n",
      "data/cranky/jam1986.csv\n",
      "1987\n",
      "data/cranky/jam1987.csv\n",
      "1988\n",
      "data/cranky/jam1988.csv\n",
      "1989\n",
      "data/cranky/jam1989.csv\n",
      "1990\n",
      "data/cranky/jam1990.csv\n",
      "1991\n",
      "data/cranky/jam1991.csv\n",
      "1992\n",
      "data/cranky/jam1992.csv\n",
      "1993\n",
      "data/cranky/jam1993.csv\n",
      "1994\n",
      "data/cranky/jam1994.csv\n",
      "1995\n",
      "data/cranky/jam1995.csv\n",
      "1996\n",
      "data/cranky/jam1996.csv\n",
      "1997\n",
      "data/cranky/jam1997.csv\n",
      "1998\n",
      "data/cranky/jam1998.csv\n",
      "1999\n",
      "data/cranky/jam1999.csv\n",
      "2000\n",
      "data/cranky/jam2000.csv\n",
      "2001\n",
      "data/cranky/jam2001.csv\n",
      "2002\n",
      "data/cranky/jam2002.csv\n"
     ]
    },
    {
     "data": {
      "text/plain": [
       "['data/cranky/jam1977.csv',\n",
       " 'data/cranky/jam1978.csv',\n",
       " 'data/cranky/jam1979.csv',\n",
       " 'data/cranky/jam1980.csv',\n",
       " 'data/cranky/jam1981.csv',\n",
       " 'data/cranky/jam1982.csv',\n",
       " 'data/cranky/jam1983.csv',\n",
       " 'data/cranky/jam1984.csv',\n",
       " 'data/cranky/jam1985.csv',\n",
       " 'data/cranky/jam1986.csv',\n",
       " 'data/cranky/jam1987.csv',\n",
       " 'data/cranky/jam1988.csv',\n",
       " 'data/cranky/jam1989.csv',\n",
       " 'data/cranky/jam1990.csv',\n",
       " 'data/cranky/jam1991.csv',\n",
       " 'data/cranky/jam1992.csv',\n",
       " 'data/cranky/jam1993.csv',\n",
       " 'data/cranky/jam1994.csv',\n",
       " 'data/cranky/jam1995.csv',\n",
       " 'data/cranky/jam1996.csv',\n",
       " 'data/cranky/jam1997.csv',\n",
       " 'data/cranky/jam1998.csv',\n",
       " 'data/cranky/jam1999.csv',\n",
       " 'data/cranky/jam2000.csv',\n",
       " 'data/cranky/jam2001.csv',\n",
       " 'data/cranky/jam2002.csv']"
      ]
     },
     "execution_count": 85,
     "metadata": {},
     "output_type": "execute_result"
    }
   ],
   "source": [
    "# Challenge - Modifying Functions\n",
    "## 4. make a list of all years represented in the data. then create a loop to process your data, that begins at\n",
    "    ## at the earliest year and ends at the latest year using that list.\n",
    "        ## hint: create a loop with a list as follows: 'for years in year_list'\n",
    "\n",
    "\n",
    "print(os.getcwd())\n",
    "def yearly_data_csv_writer(all_data, \n",
    "                           yearcolumn='year', \n",
    "                           folder_to_save='cranky',\n",
    "                           root_name='jam'):\n",
    "    \"\"\"\n",
    "        Writes a csv file for data from a given year\n",
    "\n",
    "        all_data: pd.DataFrame\\n\n",
    "            dataframe with multi-year data\\n\n",
    "        yearcolumn: column name containing the year of the data\\n\n",
    "        folder_to_save: str\\n\n",
    "            folder to save the data files\n",
    "        root_name: str\\n\n",
    "            root of the filenames to save the data\\n\n",
    "    \"\"\"\n",
    "    # make a list of unique years\n",
    "    year_list = all_data[yearcolumn].unique()\n",
    "    print(year_list)\n",
    "    filenames = []\n",
    "\n",
    "    # select data for the year\n",
    "    # if year does not have data, do not save\n",
    "\n",
    "    for year in year_list:\n",
    "        print(year)\n",
    "        filenames.append(csv_writer_dir_check(all_data, year, folder_to_save, root_name))\n",
    "    return filenames\n",
    "\n",
    "yearly_data_csv_writer(surveys_df)"
   ]
  },
  {
   "cell_type": "code",
   "execution_count": null,
   "metadata": {},
   "outputs": [],
   "source": []
  }
 ],
 "metadata": {
  "kernelspec": {
   "display_name": "Python 3",
   "language": "python",
   "name": "python3"
  },
  "language_info": {
   "codemirror_mode": {
    "name": "ipython",
    "version": 3
   },
   "file_extension": ".py",
   "mimetype": "text/x-python",
   "name": "python",
   "nbconvert_exporter": "python",
   "pygments_lexer": "ipython3",
   "version": "3.10.6"
  }
 },
 "nbformat": 4,
 "nbformat_minor": 2
}
